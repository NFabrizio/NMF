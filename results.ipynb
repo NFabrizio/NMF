{
 "cells": [
  {
   "cell_type": "markdown",
   "metadata": {},
   "source": [
    "This jupyter notebook will help us in creating graphs and charts for our results. It will have basic functionality to calculate speedup and efficiency"
   ]
  },
  {
   "cell_type": "code",
   "execution_count": 1,
   "metadata": {},
   "outputs": [],
   "source": [
    "import numpy as np\n",
    "import pandas\n",
    "import matplotlib.pyplot as plt"
   ]
  },
  {
   "cell_type": "code",
   "execution_count": 2,
   "metadata": {},
   "outputs": [],
   "source": [
    "# loop through a list of threaded results and compare to sequential execution to find a df of threads, avg, sppedup, and efficiency\n",
    "def calc_speedup(seq_list, thread_lists):\n",
    "  seq_list.remove(max(seq_list))\n",
    "  seq_list.remove(min(seq_list))\n",
    "  seqAvg = np.average(seq_list)\n",
    "  print('Sequential Execution time average: ', seqAvg)\n",
    "\n",
    "  num_of_threads = 0\n",
    "  results = []\n",
    "  result_names = ['Threads', 'STD', 'Avg', 'Speedup', 'Efficiency']\n",
    "\n",
    "  for thread_list in thread_lists:\n",
    "    # Remove max and min for current list\n",
    "    thread_list.remove(max(thread_list))\n",
    "    thread_list.remove(min(thread_list))\n",
    "\n",
    "    num_of_threads += 1\n",
    "    thread_avg = round(np.average(thread_list), 3)\n",
    "    speedup = round(seqAvg/thread_avg, 3)\n",
    "    efficiency = round(speedup/num_of_threads, 3)\n",
    "    standard_dev = round(np.std(thread_list), 5)\n",
    "    results.append([num_of_threads, standard_dev, thread_avg, speedup, efficiency])\n",
    "\n",
    "  df = pandas.DataFrame(results, columns=result_names)  \n",
    "  return df"
   ]
  },
  {
   "cell_type": "code",
   "execution_count": 3,
   "metadata": {},
   "outputs": [],
   "source": [
    "# Will take a dataframe with Avg, Speedup, and Efficiency and plot them\n",
    "def plot_speedup(df):\n",
    "  ax = plt.gca() \n",
    "  df.plot(kind = 'line', x = 'Threads', y = 'Avg', color = 'green', ax = ax)\n",
    "  df.plot(kind = 'line',x = 'Threads', y = 'Speedup', color = 'blue', ax = ax)\n",
    "  df.plot(kind = 'line',x = 'Threads', y = 'Efficiency', color = 'orange', ax = ax)\n",
    "  plt.show();"
   ]
  },
  {
   "cell_type": "code",
   "execution_count": 4,
   "metadata": {},
   "outputs": [],
   "source": [
    "# Will take a list of sequential results and return the average of the list\n",
    "def avg(seq_list):\n",
    "  seq_list.remove(max(seq_list))\n",
    "  seq_list.remove(min(seq_list))\n",
    "  seqAvg = np.average(seq_list)\n",
    "  return seqAvg"
   ]
  },
  {
   "cell_type": "code",
   "execution_count": 6,
   "metadata": {},
   "outputs": [],
   "source": [
    "seq_50_I = [0.002076, 0.000901, 0.001030, 0.000911, 0.000918, 0.000917, 0.000913]\n",
    "seq_100_I = [0.001745, 0.002070, 0.001904, 0.001629, 0.001738, 0.001602, 0.001642]\n",
    "seq_500_I = [0.007565, 0.008103, 0.009661, 0.007396, 0.006616, 0.007606, 0.007011]\n",
    "seq_1000_I = [0.014518, 0.013678, 0.014778, 0.014314, 0.014415, 0.014477, 0.009118]"
   ]
  },
  {
   "cell_type": "code",
   "execution_count": null,
   "metadata": {},
   "outputs": [],
   "source": [
    "# Execution times - simple addition of omp parrallel for\n",
    "thread_1_list = []\n",
    "thread_2_list = []\n",
    "thread_3_list = []\n",
    "thread_4_list = []\n",
    "thread_5_list = []\n",
    "thread_6_list = []\n",
    "thread_7_list = []\n",
    "thread_8_list = []\n",
    "Seq_list = []\n",
    "\n",
    "thread_lists = [thread_1_list, thread_2_list, thread_3_list, thread_4_list, thread_5_list, thread_6_list, thread_7_list, thread_8_list]"
   ]
  },
  {
   "cell_type": "code",
   "execution_count": 7,
   "metadata": {},
   "outputs": [
    {
     "name": "stdout",
     "output_type": "stream",
     "text": [
      "50 Iterations: 0.0009377999999999999\n",
      "100 Iterations: 0.0017316000000000002\n",
      "500 Iterations: 0.007536200000000002\n",
      "1000 Iterations: 0.014280400000000002\n"
     ]
    }
   ],
   "source": [
    "# print the averages of the sequential execution times\n",
    "print('50 Iterations:', avg(seq_50_I))\n",
    "print('100 Iterations:', avg(seq_100_I))\n",
    "print('500 Iterations:', avg(seq_500_I))\n",
    "print('1000 Iterations:', avg(seq_1000_I))"
   ]
  },
  {
   "cell_type": "code",
   "execution_count": 8,
   "metadata": {},
   "outputs": [
    {
     "data": {
      "image/png": "[encoded data removed]",
      "text/plain": [
       "<Figure size 432x288 with 1 Axes>"
      ]
     },
     "metadata": {
      "needs_background": "light"
     },
     "output_type": "display_data"
    }
   ],
   "source": [
    "# plot the averages of the sequential execution times\n",
    "seq_50_I_avg = avg(seq_50_I)\n",
    "seq_100_I_avg = avg(seq_100_I)\n",
    "seq_500_I_avg = avg(seq_500_I)\n",
    "seq_1000_I_avg = avg(seq_1000_I)\n",
    "\n",
    "seq_avg = [seq_50_I_avg, seq_100_I_avg, seq_500_I_avg, seq_1000_I_avg]\n",
    "seq_iterations = [50, 100, 500, 1000]\n",
    "\n",
    "plt.plot(seq_iterations, seq_avg)\n",
    "plt.xlabel('Iterations')\n",
    "plt.ylabel('Execution Time')\n",
    "plt.title('Sequential Execution Time')\n",
    "plt.show()\n"
   ]
  },
  {
   "cell_type": "code",
   "execution_count": null,
   "metadata": {},
   "outputs": [],
   "source": [
    "df = calc_speedup(Seq_list, thread_lists)\n",
    "df"
   ]
  },
  {
   "cell_type": "code",
   "execution_count": 9,
   "metadata": {},
   "outputs": [
    {
     "data": {
      "text/plain": [
       "(0.534172, 8.0681866, 57.399931200000005)"
      ]
     },
     "execution_count": 9,
     "metadata": {},
     "output_type": "execute_result"
    }
   ],
   "source": [
    "seq = [0.543922, 0.539904, 0.542206, 0.540505, 0.542758, 0.549568, 0.540145]\n",
    "med_seq = [9.475834, 9.463406, 9.556603, 9.353236, 9.466067, 9.390663, 9.415068]\n",
    "large_seq = [60.906942, 65.791226, 61.495260, 65.909135, 66.292854, 60.697092, 66.009603]\n",
    "\n",
    "avg(seq), avg(med_seq), avg(large_seq)"
   ]
  },
  {
   "cell_type": "code",
   "execution_count": 13,
   "metadata": {},
   "outputs": [
    {
     "data": {
      "image/png": "[encoded data removed]",
      "text/plain": [
       "<Figure size 432x288 with 1 Axes>"
      ]
     },
     "metadata": {
      "needs_background": "light"
     },
     "output_type": "display_data"
    }
   ],
   "source": [
    "# read in ISD.txt file and plot the data\n",
    "isd = pandas.read_csv('ISD.txt', sep = '\\t')\n",
    "isd.columns = ['STEP', 'ISD']\n",
    "isd.plot(x = 'STEP', y = 'ISD')\n",
    "plt.show()\n"
   ]
  },
  {
   "cell_type": "code",
   "execution_count": 12,
   "metadata": {
    "scrolled": true
   },
   "outputs": [
    {
     "data": {
      "text/html": [
       "<table>\n",
       "    <thead>\n",
       "        <tr>\n",
       "            <th>Sequential</th>\n",
       "            <th>10</th>\n",
       "            <th>25</th>\n",
       "            <th>50</th>\n",
       "            <th>100</th>\n",
       "            <th>250</th>\n",
       "            <th>500</th>\n",
       "            <th>1000</th>\n",
       "            <th>2000</th>\n",
       "            <th>5000</th>\n",
       "            <th>10000</th>\n",
       "        </tr>\n",
       "    </thead>\n",
       "    <tbody>\n",
       "        <tr>\n",
       "            <td>9.3889</td>\n",
       "            <td>9.648</td>\n",
       "            <td>9.4797</td>\n",
       "            <td>9.4984</td>\n",
       "            <td>9.4746</td>\n",
       "            <td>9.4733</td>\n",
       "            <td>9.5365</td>\n",
       "            <td>9.4894</td>\n",
       "            <td>9.5551</td>\n",
       "            <td>9.5469</td>\n",
       "            <td>9.5244</td>\n",
       "        </tr>\n",
       "    </tbody>\n",
       "</table>"
      ],
      "text/plain": [
       "+------------+-------+--------+--------+--------+--------+--------+--------+--------+--------+--------+\n",
       "| Sequential |   10  |   25   |   50   |  100   |  250   |  500   |  1000  |  2000  |  5000  | 10000  |\n",
       "+------------+-------+--------+--------+--------+--------+--------+--------+--------+--------+--------+\n",
       "|   9.3889   | 9.648 | 9.4797 | 9.4984 | 9.4746 | 9.4733 | 9.5365 | 9.4894 | 9.5551 | 9.5469 | 9.5244 |\n",
       "+------------+-------+--------+--------+--------+--------+--------+--------+--------+--------+--------+"
      ]
     },
     "execution_count": 12,
     "metadata": {},
     "output_type": "execute_result"
    }
   ],
   "source": [
    "from prettytable import PrettyTable\n",
    "\n",
    "# # Block size tests - really see no joy at all. Too small? Not a localization issue?\n",
    "# (base) denver:~/CS575/NMF$ ./test.sh 1 10000 ./test_data/med_data.dat 5 0 1 nmf\n",
    "# 1 threads for nmf -N 6 -I 10000 -T 5 -B 1 ./test_data/med_data.dat\n",
    "# 9.406589, 9.325238, 9.404208, 9.387634, 9.362653, 9.383552, 9.479898,\n",
    "\n",
    "# (base) denver:~/CS575/NMF$ ./test.sh 6 10000 ./test_data/med_data.dat 5 0 10 nmfOpt\n",
    "# 1 threads for nmfOpt -N 6 -I 10000 -T 5 -B 10 ./test_data/med_data.dat\n",
    "# 9.722706, 9.579972, 9.661539, 9.737212, 9.599060, 9.676715, 9.564941,\n",
    "# (base) denver:~/CS575/NMF$ ./test.sh 6 10000 ./test_data/med_data.dat 5 0 25 nmfOpt\n",
    "# 1 threads for nmfOpt -N 6 -I 10000 -T 5 -B 25 ./test_data/med_data.dat\n",
    "# 9.432991, 9.493594, 9.463730, 9.553460, 9.448938, 9.493673, 9.498362,\n",
    "# (base) denver:~/CS575/NMF$ ./test.sh 6 10000 ./test_data/med_data.dat 5 0 50 nmfOpt\n",
    "# 1 threads for nmfOpt -N 6 -I 10000 -T 5 -B 50 ./test_data/med_data.dat\n",
    "# 9.466799, 9.534266, 9.450707, 9.495390, 9.564350, 9.529818, 9.465759,\n",
    "# (base) denver:~/CS575/NMF$ ./test.sh 6 10000 ./test_data/med_data.dat 5 0 100 nmfOpt\n",
    "# 1 threads for nmfOpt -N 6 -I 10000 -T 5 -B 100 ./test_data/med_data.dat\n",
    "# 9.452977, 9.510970, 9.526947, 9.405941, 9.471033, 9.410863, 9.707120,\n",
    "# (base) denver:~/CS575/NMF$ ./test.sh 6 10000 ./test_data/med_data.dat 5 0 250 nmfOpt\n",
    "# 1 threads for nmfOpt -N 6 -I 10000 -T 5 -B 250 ./test_data/med_data.dat\n",
    "# 9.408955, 9.560139, 9.436111, 9.338082, 9.544690, 9.416759, 9.575007,\n",
    "# (base) denver:~/CS575/NMF$ ./test.sh 6 10000 ./test_data/med_data.dat 5 0 500 nmfOpt\n",
    "# 1 threads for nmfOpt -N 6 -I 10000 -T 5 -B 500 ./test_data/med_data.dat\n",
    "# 9.504865, 9.649893, 9.623651, 9.458090, 9.513319, 9.504950, 9.535742,\n",
    "# (base) denver:~/CS575/NMF$ ./test.sh 6 10000 ./test_data/med_data.dat 5 0 1000 nmfOpt\n",
    "# 1 threads for nmfOpt -N 6 -I 10000 -T 5 -B 1000 ./test_data/med_data.dat\n",
    "# 9.483290, 9.528004, 9.468683, 9.524097, 9.507855, 9.453468, 9.463101,\n",
    "# (base) denver:~/CS575/NMF$ ./test.sh 6 10000 ./test_data/med_data.dat 5 0 2000 nmfOpt\n",
    "# 1 threads for nmfOpt -N 6 -I 10000 -T 5 -B 2000 ./test_data/med_data.dat\n",
    "# 9.462383, 9.553690, 9.712771, 9.667013, 9.557601, 9.412043, 9.534750,\n",
    "# (base) denver:~/CS575/NMF$ ./test.sh 6 10000 ./test_data/med_data.dat 5 0 5000 nmfOpt\n",
    "# 1 threads for nmfOpt -N 6 -I 10000 -T 5 -B 5000 ./test_data/med_data.dat\n",
    "# 9.571613, 9.479653, 9.566766, 9.650081, 9.536227, 9.569641, 9.490401,\n",
    "# (base) denver:~/CS575/NMF$ ./test.sh 6 10000 ./test_data/med_data.dat 5 0 10000 nmfOpt\n",
    "# 1 threads for nmfOpt -N 6 -I 10000 -T 5 -B 10000 ./test_data/med_data.dat\n",
    "# 9.470639, 9.565643, 9.551589, 9.517079, 9.560104, 9.457342, 9.522353,\n",
    "\n",
    "# create arrays of the data\n",
    "seq = [9.406589, 9.325238, 9.404208, 9.387634, 9.362653, 9.383552, 9.479898]\n",
    "par_10 = [9.722706, 9.579972, 9.661539, 9.737212, 9.599060, 9.676715, 9.564941]\n",
    "par_25 = [9.432991, 9.493594, 9.463730, 9.553460, 9.448938, 9.493673, 9.498362]\n",
    "par_50 = [9.466799, 9.534266, 9.450707, 9.495390, 9.564350, 9.529818, 9.465759]\n",
    "par_100 = [9.452977, 9.510970, 9.526947, 9.405941, 9.471033, 9.410863, 9.707120]\n",
    "par_250 = [9.408955, 9.560139, 9.436111, 9.338082, 9.544690, 9.416759, 9.575007]\n",
    "par_500 = [9.504865, 9.649893, 9.623651, 9.458090, 9.513319, 9.504950, 9.535742]\n",
    "par_1000 = [9.483290, 9.528004, 9.468683, 9.524097, 9.507855, 9.453468, 9.463101]\n",
    "par_2000 = [9.462383, 9.553690, 9.712771, 9.667013, 9.557601, 9.412043, 9.534750]\n",
    "par_5000 = [9.571613, 9.479653, 9.566766, 9.650081, 9.536227, 9.569641, 9.490401]\n",
    "par_10000 = [9.470639, 9.565643, 9.551589, 9.517079, 9.560104, 9.457342, 9.522353]\n",
    "\n",
    "# find the average of each array using the avg method\n",
    "seq_avg = avg(seq)\n",
    "par_10_avg = avg(par_10)\n",
    "par_25_avg = avg(par_25)\n",
    "par_50_avg = avg(par_50)\n",
    "par_100_avg = avg(par_100)\n",
    "par_250_avg = avg(par_250)\n",
    "par_500_avg = avg(par_500)\n",
    "par_1000_avg = avg(par_1000)\n",
    "par_2000_avg = avg(par_2000)\n",
    "par_5000_avg = avg(par_5000)\n",
    "par_10000_avg = avg(par_10000)\n",
    "\n",
    "# create a table for the data with 4 decimal places of precision\n",
    "table = PrettyTable(['Sequential', '10', '25', '50', '100', '250', '500', '1000', '2000', '5000', '10000'])\n",
    "table.add_row([round(seq_avg, 4), round(par_10_avg, 4), round(par_25_avg, 4), round(par_50_avg, 4), round(par_100_avg, 4), round(par_250_avg, 4), round(par_500_avg, 4), round(par_1000_avg, 4), round(par_2000_avg, 4), round(par_5000_avg, 4), round(par_10000_avg, 4)])\n",
    "\n",
    "# print the table\n",
    "table\n"
   ]
  },
  {
   "cell_type": "code",
   "execution_count": null,
   "metadata": {},
   "outputs": [],
   "source": []
  },
  {
   "cell_type": "code",
   "execution_count": 10,
   "metadata": {},
   "outputs": [],
   "source": [
    "import math\n",
    "\n",
    "def calc_mean_and_variance(df):\n",
    "    df_cols = ['iter_0', 'iter_1', 'iter_2', 'iter_3', 'iter_4', 'iter_5', 'iter_6']\n",
    "    df_variance_cols = ['iter_0_variance', 'iter_1_variance', 'iter_2_variance', 'iter_3_variance', \\\n",
    "                        'iter_4_variance', 'iter_5_variance', 'iter_6_variance']\n",
    "\n",
    "    df['adjusted_mean'] = 0\n",
    "    df[df_variance_cols] = 0\n",
    "\n",
    "    for index, row in df.iterrows():\n",
    "        adjusted_mean = (row[df_cols].sum() - row[df_cols].min() - row[df_cols].max()) / (len(row[df_cols]) - 2)\n",
    "        df.at[index, 'adjusted_mean'] = adjusted_mean\n",
    "        \n",
    "        speedup = df.at[0, 'adjusted_mean'] / adjusted_mean\n",
    "        df.at[index, 'speedup'] = speedup\n",
    "            \n",
    "#         efficiency = speedup / df.at[index, 'num_procs']\n",
    "#         df.at[index, 'efficiency'] = efficiency\n",
    "\n",
    "    return df\n",
    "\n"
   ]
  },
  {
   "cell_type": "code",
   "execution_count": 18,
   "metadata": {},
   "outputs": [],
   "source": [
    "desired_cols = ['program', 'data_set', 'n', 'i', 't', 'b', 'iter_0', 'iter_1', 'iter_2', \\\n",
    "                'iter_3', 'iter_4', 'iter_5', 'iter_6', 'adjusted_mean', 'speedup']"
   ]
  },
  {
   "cell_type": "code",
   "execution_count": 19,
   "metadata": {},
   "outputs": [],
   "source": [
    "from IPython.display import display\n",
    "\n",
    "def print_table(data):\n",
    "    display(data[desired_cols].style.set_table_styles([dict(selector='th', props=[('text-align', 'center')])])\\\n",
    "            .set_properties(**{'text-align': 'center'}).hide(axis='index'))"
   ]
  },
  {
   "cell_type": "code",
   "execution_count": 13,
   "metadata": {},
   "outputs": [
    {
     "data": {
      "text/html": [
       "<div>\n",
       "<style scoped>\n",
       "    .dataframe tbody tr th:only-of-type {\n",
       "        vertical-align: middle;\n",
       "    }\n",
       "\n",
       "    .dataframe tbody tr th {\n",
       "        vertical-align: top;\n",
       "    }\n",
       "\n",
       "    .dataframe thead th {\n",
       "        text-align: right;\n",
       "    }\n",
       "</style>\n",
       "<table border=\"1\" class=\"dataframe\">\n",
       "  <thead>\n",
       "    <tr style=\"text-align: right;\">\n",
       "      <th></th>\n",
       "      <th>program</th>\n",
       "      <th>data_set</th>\n",
       "      <th>n</th>\n",
       "      <th>i</th>\n",
       "      <th>t</th>\n",
       "      <th>b</th>\n",
       "      <th>iter_0</th>\n",
       "      <th>iter_1</th>\n",
       "      <th>iter_2</th>\n",
       "      <th>iter_3</th>\n",
       "      <th>iter_4</th>\n",
       "      <th>iter_5</th>\n",
       "      <th>iter_6</th>\n",
       "    </tr>\n",
       "  </thead>\n",
       "  <tbody>\n",
       "    <tr>\n",
       "      <th>0</th>\n",
       "      <td>nmf</td>\n",
       "      <td>./test_data/med_data.dat</td>\n",
       "      <td>6</td>\n",
       "      <td>10000</td>\n",
       "      <td>5</td>\n",
       "      <td>2000</td>\n",
       "      <td>9.436242</td>\n",
       "      <td>9.421645</td>\n",
       "      <td>9.525775</td>\n",
       "      <td>9.398508</td>\n",
       "      <td>9.549011</td>\n",
       "      <td>9.388288</td>\n",
       "      <td>9.258341</td>\n",
       "    </tr>\n",
       "    <tr>\n",
       "      <th>1</th>\n",
       "      <td>nmfOpt</td>\n",
       "      <td>./test_data/med_data.dat</td>\n",
       "      <td>6</td>\n",
       "      <td>10000</td>\n",
       "      <td>5</td>\n",
       "      <td>2000</td>\n",
       "      <td>9.807438</td>\n",
       "      <td>9.907416</td>\n",
       "      <td>9.849492</td>\n",
       "      <td>9.738523</td>\n",
       "      <td>9.729240</td>\n",
       "      <td>9.868226</td>\n",
       "      <td>9.716479</td>\n",
       "    </tr>\n",
       "    <tr>\n",
       "      <th>2</th>\n",
       "      <td>nmfOpt</td>\n",
       "      <td>./test_data/med_data.dat</td>\n",
       "      <td>6</td>\n",
       "      <td>10000</td>\n",
       "      <td>5</td>\n",
       "      <td>4000</td>\n",
       "      <td>9.810212</td>\n",
       "      <td>9.786425</td>\n",
       "      <td>9.920421</td>\n",
       "      <td>9.800936</td>\n",
       "      <td>9.795945</td>\n",
       "      <td>9.760391</td>\n",
       "      <td>9.716161</td>\n",
       "    </tr>\n",
       "    <tr>\n",
       "      <th>3</th>\n",
       "      <td>nmfOpt</td>\n",
       "      <td>./test_data/med_data.dat</td>\n",
       "      <td>6</td>\n",
       "      <td>10000</td>\n",
       "      <td>5</td>\n",
       "      <td>6000</td>\n",
       "      <td>9.709845</td>\n",
       "      <td>9.695243</td>\n",
       "      <td>9.668188</td>\n",
       "      <td>9.878703</td>\n",
       "      <td>9.700642</td>\n",
       "      <td>9.825125</td>\n",
       "      <td>9.816635</td>\n",
       "    </tr>\n",
       "    <tr>\n",
       "      <th>4</th>\n",
       "      <td>nmfOpt</td>\n",
       "      <td>./test_data/med_data.dat</td>\n",
       "      <td>6</td>\n",
       "      <td>10000</td>\n",
       "      <td>5</td>\n",
       "      <td>8000</td>\n",
       "      <td>9.857310</td>\n",
       "      <td>9.719357</td>\n",
       "      <td>9.896216</td>\n",
       "      <td>9.898773</td>\n",
       "      <td>9.759559</td>\n",
       "      <td>9.611822</td>\n",
       "      <td>9.826119</td>\n",
       "    </tr>\n",
       "    <tr>\n",
       "      <th>5</th>\n",
       "      <td>nmfOpt</td>\n",
       "      <td>./test_data/med_data.dat</td>\n",
       "      <td>6</td>\n",
       "      <td>10000</td>\n",
       "      <td>5</td>\n",
       "      <td>10000</td>\n",
       "      <td>9.797785</td>\n",
       "      <td>9.758609</td>\n",
       "      <td>10.100007</td>\n",
       "      <td>9.819905</td>\n",
       "      <td>9.998548</td>\n",
       "      <td>9.634270</td>\n",
       "      <td>9.878986</td>\n",
       "    </tr>\n",
       "  </tbody>\n",
       "</table>\n",
       "</div>"
      ],
      "text/plain": [
       "  program                  data_set  n      i  t      b    iter_0    iter_1  \\\n",
       "0     nmf  ./test_data/med_data.dat  6  10000  5   2000  9.436242  9.421645   \n",
       "1  nmfOpt  ./test_data/med_data.dat  6  10000  5   2000  9.807438  9.907416   \n",
       "2  nmfOpt  ./test_data/med_data.dat  6  10000  5   4000  9.810212  9.786425   \n",
       "3  nmfOpt  ./test_data/med_data.dat  6  10000  5   6000  9.709845  9.695243   \n",
       "4  nmfOpt  ./test_data/med_data.dat  6  10000  5   8000  9.857310  9.719357   \n",
       "5  nmfOpt  ./test_data/med_data.dat  6  10000  5  10000  9.797785  9.758609   \n",
       "\n",
       "      iter_2    iter_3    iter_4    iter_5    iter_6  \n",
       "0   9.525775  9.398508  9.549011  9.388288  9.258341  \n",
       "1   9.849492  9.738523  9.729240  9.868226  9.716479  \n",
       "2   9.920421  9.800936  9.795945  9.760391  9.716161  \n",
       "3   9.668188  9.878703  9.700642  9.825125  9.816635  \n",
       "4   9.896216  9.898773  9.759559  9.611822  9.826119  \n",
       "5  10.100007  9.819905  9.998548  9.634270  9.878986  "
      ]
     },
     "execution_count": 13,
     "metadata": {},
     "output_type": "execute_result"
    }
   ],
   "source": [
    "data_nmfOpt = pandas.read_csv('results_nmfOpt.csv', delimiter=',', decimal='.')\n",
    "data_nmfOpt"
   ]
  },
  {
   "cell_type": "code",
   "execution_count": 20,
   "metadata": {},
   "outputs": [
    {
     "data": {
      "text/html": [
       "<style type=\"text/css\">\n",
       "#T_9ae09 th {\n",
       "  text-align: center;\n",
       "}\n",
       "#T_9ae09_row0_col0, #T_9ae09_row0_col1, #T_9ae09_row0_col2, #T_9ae09_row0_col3, #T_9ae09_row0_col4, #T_9ae09_row0_col5, #T_9ae09_row0_col6, #T_9ae09_row0_col7, #T_9ae09_row0_col8, #T_9ae09_row0_col9, #T_9ae09_row0_col10, #T_9ae09_row0_col11, #T_9ae09_row0_col12, #T_9ae09_row0_col13, #T_9ae09_row0_col14, #T_9ae09_row1_col0, #T_9ae09_row1_col1, #T_9ae09_row1_col2, #T_9ae09_row1_col3, #T_9ae09_row1_col4, #T_9ae09_row1_col5, #T_9ae09_row1_col6, #T_9ae09_row1_col7, #T_9ae09_row1_col8, #T_9ae09_row1_col9, #T_9ae09_row1_col10, #T_9ae09_row1_col11, #T_9ae09_row1_col12, #T_9ae09_row1_col13, #T_9ae09_row1_col14, #T_9ae09_row2_col0, #T_9ae09_row2_col1, #T_9ae09_row2_col2, #T_9ae09_row2_col3, #T_9ae09_row2_col4, #T_9ae09_row2_col5, #T_9ae09_row2_col6, #T_9ae09_row2_col7, #T_9ae09_row2_col8, #T_9ae09_row2_col9, #T_9ae09_row2_col10, #T_9ae09_row2_col11, #T_9ae09_row2_col12, #T_9ae09_row2_col13, #T_9ae09_row2_col14, #T_9ae09_row3_col0, #T_9ae09_row3_col1, #T_9ae09_row3_col2, #T_9ae09_row3_col3, #T_9ae09_row3_col4, #T_9ae09_row3_col5, #T_9ae09_row3_col6, #T_9ae09_row3_col7, #T_9ae09_row3_col8, #T_9ae09_row3_col9, #T_9ae09_row3_col10, #T_9ae09_row3_col11, #T_9ae09_row3_col12, #T_9ae09_row3_col13, #T_9ae09_row3_col14, #T_9ae09_row4_col0, #T_9ae09_row4_col1, #T_9ae09_row4_col2, #T_9ae09_row4_col3, #T_9ae09_row4_col4, #T_9ae09_row4_col5, #T_9ae09_row4_col6, #T_9ae09_row4_col7, #T_9ae09_row4_col8, #T_9ae09_row4_col9, #T_9ae09_row4_col10, #T_9ae09_row4_col11, #T_9ae09_row4_col12, #T_9ae09_row4_col13, #T_9ae09_row4_col14, #T_9ae09_row5_col0, #T_9ae09_row5_col1, #T_9ae09_row5_col2, #T_9ae09_row5_col3, #T_9ae09_row5_col4, #T_9ae09_row5_col5, #T_9ae09_row5_col6, #T_9ae09_row5_col7, #T_9ae09_row5_col8, #T_9ae09_row5_col9, #T_9ae09_row5_col10, #T_9ae09_row5_col11, #T_9ae09_row5_col12, #T_9ae09_row5_col13, #T_9ae09_row5_col14 {\n",
       "  text-align: center;\n",
       "}\n",
       "</style>\n",
       "<table id=\"T_9ae09\">\n",
       "  <thead>\n",
       "    <tr>\n",
       "      <th id=\"T_9ae09_level0_col0\" class=\"col_heading level0 col0\" >program</th>\n",
       "      <th id=\"T_9ae09_level0_col1\" class=\"col_heading level0 col1\" >data_set</th>\n",
       "      <th id=\"T_9ae09_level0_col2\" class=\"col_heading level0 col2\" >n</th>\n",
       "      <th id=\"T_9ae09_level0_col3\" class=\"col_heading level0 col3\" >i</th>\n",
       "      <th id=\"T_9ae09_level0_col4\" class=\"col_heading level0 col4\" >t</th>\n",
       "      <th id=\"T_9ae09_level0_col5\" class=\"col_heading level0 col5\" >b</th>\n",
       "      <th id=\"T_9ae09_level0_col6\" class=\"col_heading level0 col6\" >iter_0</th>\n",
       "      <th id=\"T_9ae09_level0_col7\" class=\"col_heading level0 col7\" >iter_1</th>\n",
       "      <th id=\"T_9ae09_level0_col8\" class=\"col_heading level0 col8\" >iter_2</th>\n",
       "      <th id=\"T_9ae09_level0_col9\" class=\"col_heading level0 col9\" >iter_3</th>\n",
       "      <th id=\"T_9ae09_level0_col10\" class=\"col_heading level0 col10\" >iter_4</th>\n",
       "      <th id=\"T_9ae09_level0_col11\" class=\"col_heading level0 col11\" >iter_5</th>\n",
       "      <th id=\"T_9ae09_level0_col12\" class=\"col_heading level0 col12\" >iter_6</th>\n",
       "      <th id=\"T_9ae09_level0_col13\" class=\"col_heading level0 col13\" >adjusted_mean</th>\n",
       "      <th id=\"T_9ae09_level0_col14\" class=\"col_heading level0 col14\" >speedup</th>\n",
       "    </tr>\n",
       "  </thead>\n",
       "  <tbody>\n",
       "    <tr>\n",
       "      <td id=\"T_9ae09_row0_col0\" class=\"data row0 col0\" >nmf</td>\n",
       "      <td id=\"T_9ae09_row0_col1\" class=\"data row0 col1\" >./test_data/med_data.dat</td>\n",
       "      <td id=\"T_9ae09_row0_col2\" class=\"data row0 col2\" >6</td>\n",
       "      <td id=\"T_9ae09_row0_col3\" class=\"data row0 col3\" >10000</td>\n",
       "      <td id=\"T_9ae09_row0_col4\" class=\"data row0 col4\" >5</td>\n",
       "      <td id=\"T_9ae09_row0_col5\" class=\"data row0 col5\" >2000</td>\n",
       "      <td id=\"T_9ae09_row0_col6\" class=\"data row0 col6\" >9.436242</td>\n",
       "      <td id=\"T_9ae09_row0_col7\" class=\"data row0 col7\" >9.421645</td>\n",
       "      <td id=\"T_9ae09_row0_col8\" class=\"data row0 col8\" >9.525775</td>\n",
       "      <td id=\"T_9ae09_row0_col9\" class=\"data row0 col9\" >9.398508</td>\n",
       "      <td id=\"T_9ae09_row0_col10\" class=\"data row0 col10\" >9.549011</td>\n",
       "      <td id=\"T_9ae09_row0_col11\" class=\"data row0 col11\" >9.388288</td>\n",
       "      <td id=\"T_9ae09_row0_col12\" class=\"data row0 col12\" >9.258341</td>\n",
       "      <td id=\"T_9ae09_row0_col13\" class=\"data row0 col13\" >9.434092</td>\n",
       "      <td id=\"T_9ae09_row0_col14\" class=\"data row0 col14\" >1.000000</td>\n",
       "    </tr>\n",
       "    <tr>\n",
       "      <td id=\"T_9ae09_row1_col0\" class=\"data row1 col0\" >nmfOpt</td>\n",
       "      <td id=\"T_9ae09_row1_col1\" class=\"data row1 col1\" >./test_data/med_data.dat</td>\n",
       "      <td id=\"T_9ae09_row1_col2\" class=\"data row1 col2\" >6</td>\n",
       "      <td id=\"T_9ae09_row1_col3\" class=\"data row1 col3\" >10000</td>\n",
       "      <td id=\"T_9ae09_row1_col4\" class=\"data row1 col4\" >5</td>\n",
       "      <td id=\"T_9ae09_row1_col5\" class=\"data row1 col5\" >2000</td>\n",
       "      <td id=\"T_9ae09_row1_col6\" class=\"data row1 col6\" >9.807438</td>\n",
       "      <td id=\"T_9ae09_row1_col7\" class=\"data row1 col7\" >9.907416</td>\n",
       "      <td id=\"T_9ae09_row1_col8\" class=\"data row1 col8\" >9.849492</td>\n",
       "      <td id=\"T_9ae09_row1_col9\" class=\"data row1 col9\" >9.738523</td>\n",
       "      <td id=\"T_9ae09_row1_col10\" class=\"data row1 col10\" >9.729240</td>\n",
       "      <td id=\"T_9ae09_row1_col11\" class=\"data row1 col11\" >9.868226</td>\n",
       "      <td id=\"T_9ae09_row1_col12\" class=\"data row1 col12\" >9.716479</td>\n",
       "      <td id=\"T_9ae09_row1_col13\" class=\"data row1 col13\" >9.798584</td>\n",
       "      <td id=\"T_9ae09_row1_col14\" class=\"data row1 col14\" >0.962802</td>\n",
       "    </tr>\n",
       "    <tr>\n",
       "      <td id=\"T_9ae09_row2_col0\" class=\"data row2 col0\" >nmfOpt</td>\n",
       "      <td id=\"T_9ae09_row2_col1\" class=\"data row2 col1\" >./test_data/med_data.dat</td>\n",
       "      <td id=\"T_9ae09_row2_col2\" class=\"data row2 col2\" >6</td>\n",
       "      <td id=\"T_9ae09_row2_col3\" class=\"data row2 col3\" >10000</td>\n",
       "      <td id=\"T_9ae09_row2_col4\" class=\"data row2 col4\" >5</td>\n",
       "      <td id=\"T_9ae09_row2_col5\" class=\"data row2 col5\" >4000</td>\n",
       "      <td id=\"T_9ae09_row2_col6\" class=\"data row2 col6\" >9.810212</td>\n",
       "      <td id=\"T_9ae09_row2_col7\" class=\"data row2 col7\" >9.786425</td>\n",
       "      <td id=\"T_9ae09_row2_col8\" class=\"data row2 col8\" >9.920421</td>\n",
       "      <td id=\"T_9ae09_row2_col9\" class=\"data row2 col9\" >9.800936</td>\n",
       "      <td id=\"T_9ae09_row2_col10\" class=\"data row2 col10\" >9.795945</td>\n",
       "      <td id=\"T_9ae09_row2_col11\" class=\"data row2 col11\" >9.760391</td>\n",
       "      <td id=\"T_9ae09_row2_col12\" class=\"data row2 col12\" >9.716161</td>\n",
       "      <td id=\"T_9ae09_row2_col13\" class=\"data row2 col13\" >9.790782</td>\n",
       "      <td id=\"T_9ae09_row2_col14\" class=\"data row2 col14\" >0.963569</td>\n",
       "    </tr>\n",
       "    <tr>\n",
       "      <td id=\"T_9ae09_row3_col0\" class=\"data row3 col0\" >nmfOpt</td>\n",
       "      <td id=\"T_9ae09_row3_col1\" class=\"data row3 col1\" >./test_data/med_data.dat</td>\n",
       "      <td id=\"T_9ae09_row3_col2\" class=\"data row3 col2\" >6</td>\n",
       "      <td id=\"T_9ae09_row3_col3\" class=\"data row3 col3\" >10000</td>\n",
       "      <td id=\"T_9ae09_row3_col4\" class=\"data row3 col4\" >5</td>\n",
       "      <td id=\"T_9ae09_row3_col5\" class=\"data row3 col5\" >6000</td>\n",
       "      <td id=\"T_9ae09_row3_col6\" class=\"data row3 col6\" >9.709845</td>\n",
       "      <td id=\"T_9ae09_row3_col7\" class=\"data row3 col7\" >9.695243</td>\n",
       "      <td id=\"T_9ae09_row3_col8\" class=\"data row3 col8\" >9.668188</td>\n",
       "      <td id=\"T_9ae09_row3_col9\" class=\"data row3 col9\" >9.878703</td>\n",
       "      <td id=\"T_9ae09_row3_col10\" class=\"data row3 col10\" >9.700642</td>\n",
       "      <td id=\"T_9ae09_row3_col11\" class=\"data row3 col11\" >9.825125</td>\n",
       "      <td id=\"T_9ae09_row3_col12\" class=\"data row3 col12\" >9.816635</td>\n",
       "      <td id=\"T_9ae09_row3_col13\" class=\"data row3 col13\" >9.749498</td>\n",
       "      <td id=\"T_9ae09_row3_col14\" class=\"data row3 col14\" >0.967649</td>\n",
       "    </tr>\n",
       "    <tr>\n",
       "      <td id=\"T_9ae09_row4_col0\" class=\"data row4 col0\" >nmfOpt</td>\n",
       "      <td id=\"T_9ae09_row4_col1\" class=\"data row4 col1\" >./test_data/med_data.dat</td>\n",
       "      <td id=\"T_9ae09_row4_col2\" class=\"data row4 col2\" >6</td>\n",
       "      <td id=\"T_9ae09_row4_col3\" class=\"data row4 col3\" >10000</td>\n",
       "      <td id=\"T_9ae09_row4_col4\" class=\"data row4 col4\" >5</td>\n",
       "      <td id=\"T_9ae09_row4_col5\" class=\"data row4 col5\" >8000</td>\n",
       "      <td id=\"T_9ae09_row4_col6\" class=\"data row4 col6\" >9.857310</td>\n",
       "      <td id=\"T_9ae09_row4_col7\" class=\"data row4 col7\" >9.719357</td>\n",
       "      <td id=\"T_9ae09_row4_col8\" class=\"data row4 col8\" >9.896216</td>\n",
       "      <td id=\"T_9ae09_row4_col9\" class=\"data row4 col9\" >9.898773</td>\n",
       "      <td id=\"T_9ae09_row4_col10\" class=\"data row4 col10\" >9.759559</td>\n",
       "      <td id=\"T_9ae09_row4_col11\" class=\"data row4 col11\" >9.611822</td>\n",
       "      <td id=\"T_9ae09_row4_col12\" class=\"data row4 col12\" >9.826119</td>\n",
       "      <td id=\"T_9ae09_row4_col13\" class=\"data row4 col13\" >9.811712</td>\n",
       "      <td id=\"T_9ae09_row4_col14\" class=\"data row4 col14\" >0.961513</td>\n",
       "    </tr>\n",
       "    <tr>\n",
       "      <td id=\"T_9ae09_row5_col0\" class=\"data row5 col0\" >nmfOpt</td>\n",
       "      <td id=\"T_9ae09_row5_col1\" class=\"data row5 col1\" >./test_data/med_data.dat</td>\n",
       "      <td id=\"T_9ae09_row5_col2\" class=\"data row5 col2\" >6</td>\n",
       "      <td id=\"T_9ae09_row5_col3\" class=\"data row5 col3\" >10000</td>\n",
       "      <td id=\"T_9ae09_row5_col4\" class=\"data row5 col4\" >5</td>\n",
       "      <td id=\"T_9ae09_row5_col5\" class=\"data row5 col5\" >10000</td>\n",
       "      <td id=\"T_9ae09_row5_col6\" class=\"data row5 col6\" >9.797785</td>\n",
       "      <td id=\"T_9ae09_row5_col7\" class=\"data row5 col7\" >9.758609</td>\n",
       "      <td id=\"T_9ae09_row5_col8\" class=\"data row5 col8\" >10.100007</td>\n",
       "      <td id=\"T_9ae09_row5_col9\" class=\"data row5 col9\" >9.819905</td>\n",
       "      <td id=\"T_9ae09_row5_col10\" class=\"data row5 col10\" >9.998548</td>\n",
       "      <td id=\"T_9ae09_row5_col11\" class=\"data row5 col11\" >9.634270</td>\n",
       "      <td id=\"T_9ae09_row5_col12\" class=\"data row5 col12\" >9.878986</td>\n",
       "      <td id=\"T_9ae09_row5_col13\" class=\"data row5 col13\" >9.850767</td>\n",
       "      <td id=\"T_9ae09_row5_col14\" class=\"data row5 col14\" >0.957701</td>\n",
       "    </tr>\n",
       "  </tbody>\n",
       "</table>\n"
      ],
      "text/plain": [
       "<pandas.io.formats.style.Styler at 0x122472ac0>"
      ]
     },
     "metadata": {},
     "output_type": "display_data"
    }
   ],
   "source": [
    "adjusted_data_nmfOpt = calc_mean_and_variance(data_nmfOpt)\n",
    "print_table(adjusted_data_nmfOpt)"
   ]
  },
  {
   "cell_type": "code",
   "execution_count": 26,
   "metadata": {},
   "outputs": [],
   "source": [
    "import matplotlib.pyplot as plt\n",
    "\n",
    "def plot_times(adjusted_data, fig_title='', fig_file_name='test.png'):\n",
    "#     sieve_results = adjusted_data[::2]\n",
    "#     sieve1_results = adjusted_data[1::2]\n",
    "    seq_results = adjusted_data[:1]\n",
    "    opt_results = adjusted_data[1:]\n",
    "\n",
    "    fig, axs = plt.subplots(3, figsize=(8, 15))\n",
    "    \n",
    "    fig.suptitle(fig_title, y=1)\n",
    "    \n",
    "    axs[0].plot(opt_results['b'], opt_results['adjusted_mean'], label=fig_title)\n",
    "    axs[0].hlines(y=seq_results['adjusted_mean'], xmin=2000, xmax=10000, colors='orange', label='jac sequential')\n",
    "    axs[0].set_ylabel('Seconds')\n",
    "    axs[0].legend(loc='upper right')\n",
    "    axs[0].set_title(f\"{fig_title} Execution Times\")\n",
    "    axs[0].set_xticks(opt_results['b'], opt_results['b'])\n",
    "    axs[0].set_xlabel('Block size')\n",
    "    \n",
    "    axs[1].plot(opt_results['b'], opt_results['speedup'], label=fig_title) \n",
    "    axs[1].legend(loc='lower right')\n",
    "    axs[1].set_ylabel('Ratio (x times)')\n",
    "    axs[1].set_title(f\"{fig_title} Speedup\")\n",
    "    axs[1].set_xticks(opt_results['b'], opt_results['b'])\n",
    "    axs[1].set_xlabel('Block size')\n",
    "    \n",
    "#     axs[2].plot(buf1_results['num_procs'], buf1_results['efficiency'], label=fig_title + ' k=1')  \n",
    "#     axs[2].plot(buf2_results['num_procs'], buf2_results['efficiency'], label=fig_title + ' k=2')  \n",
    "#     axs[2].plot(buf3_results['num_procs'], buf3_results['efficiency'], label=fig_title + ' k=3')  \n",
    "#     axs[2].plot(buf4_results['num_procs'], buf4_results['efficiency'], label=fig_title + ' k=4')  \n",
    "#     axs[2].legend(loc='lower left')\n",
    "#     axs[2].set_ylabel('Ratio')\n",
    "#     axs[2].set_title(f\"{fig_title} Efficiency\")\n",
    "#     axs[2].set_xticks(buf1_results['num_procs'], buf1_results['num_procs'])\n",
    "#     axs[2].set_xlabel('Number of processes')\n",
    "    \n",
    "    \n",
    "    fig.tight_layout()\n",
    "    \n",
    "    fig.savefig(fig_file_name, bbox_inches='tight')"
   ]
  },
  {
   "cell_type": "code",
   "execution_count": 27,
   "metadata": {},
   "outputs": [
    {
     "data": {
      "image/png": "[encoded data removed]",
      "text/plain": [
       "<Figure size 800x1500 with 3 Axes>"
      ]
     },
     "metadata": {},
     "output_type": "display_data"
    }
   ],
   "source": [
    "plot_times(adjusted_data_nmfOpt, 'nmfOpt', 'nmfOpt.png')"
   ]
  },
  {
   "cell_type": "code",
   "execution_count": null,
   "metadata": {},
   "outputs": [],
   "source": []
  }
 ],
 "metadata": {
  "kernelspec": {
   "display_name": "Python 3 (ipykernel)",
   "language": "python",
   "name": "python3"
  },
  "language_info": {
   "codemirror_mode": {
    "name": "ipython",
    "version": 3
   },
   "file_extension": ".py",
   "mimetype": "text/x-python",
   "name": "python",
   "nbconvert_exporter": "python",
   "pygments_lexer": "ipython3",
   "version": "3.9.6"
  }
 },
 "nbformat": 4,
 "nbformat_minor": 2
}
