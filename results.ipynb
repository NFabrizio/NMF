{
 "cells": [
  {
   "attachments": {},
   "cell_type": "markdown",
   "metadata": {},
   "source": [
    "This jupyter notebook will help us in creating graphs and charts for our results. It will have basic functionality to calculate speedup and efficiency"
   ]
  },
  {
   "cell_type": "code",
   "execution_count": 2,
   "metadata": {},
   "outputs": [],
   "source": [
    "import numpy as np\n",
    "import pandas\n",
    "import matplotlib.pyplot as plt"
   ]
  },
  {
   "cell_type": "code",
   "execution_count": 3,
   "metadata": {},
   "outputs": [],
   "source": [
    "# loop through a list of threaded results and compare to sequential execution to find a df of threads, avg, sppedup, and efficiency\n",
    "def calc_speedup(seq_list, thread_lists):\n",
    "  seq_list.remove(max(seq_list))\n",
    "  seq_list.remove(min(seq_list))\n",
    "  seqAvg = np.average(seq_list)\n",
    "  print('Sequential Execution time average: ', seqAvg)\n",
    "\n",
    "  num_of_threads = 0\n",
    "  results = []\n",
    "  result_names = ['Threads', 'STD', 'Avg', 'Speedup', 'Efficiency']\n",
    "\n",
    "  for thread_list in thread_lists:\n",
    "    # Remove max and min for current list\n",
    "    thread_list.remove(max(thread_list))\n",
    "    thread_list.remove(min(thread_list))\n",
    "\n",
    "    num_of_threads += 1\n",
    "    thread_avg = round(np.average(thread_list), 3)\n",
    "    speedup = round(seqAvg/thread_avg, 3)\n",
    "    efficiency = round(speedup/num_of_threads, 3)\n",
    "    standard_dev = round(np.std(thread_list), 5)\n",
    "    results.append([num_of_threads, standard_dev, thread_avg, speedup, efficiency])\n",
    "\n",
    "  df = pandas.DataFrame(results, columns=result_names)  \n",
    "  return df"
   ]
  },
  {
   "cell_type": "code",
   "execution_count": 4,
   "metadata": {},
   "outputs": [],
   "source": [
    "# Will take a dataframe with Avg, Speedup, and Efficiency and plot them\n",
    "def plot_speedup(df):\n",
    "  ax = plt.gca() \n",
    "  df.plot(kind = 'line', x = 'Threads', y = 'Avg', color = 'green', ax = ax)\n",
    "  df.plot(kind = 'line',x = 'Threads', y = 'Speedup', color = 'blue', ax = ax)\n",
    "  df.plot(kind = 'line',x = 'Threads', y = 'Efficiency', color = 'orange', ax = ax)\n",
    "  plt.show();"
   ]
  },
  {
   "cell_type": "code",
   "execution_count": 5,
   "metadata": {},
   "outputs": [],
   "source": [
    "# Will take a list of sequential results and return the average of the list\n",
    "def avg(seq_list):\n",
    "  seq_list.remove(max(seq_list))\n",
    "  seq_list.remove(min(seq_list))\n",
    "  seqAvg = np.average(seq_list)\n",
    "  return seqAvg"
   ]
  },
  {
   "cell_type": "code",
   "execution_count": 6,
   "metadata": {},
   "outputs": [],
   "source": [
    "seq_50_I = [0.002076, 0.000901, 0.001030, 0.000911, 0.000918, 0.000917, 0.000913]\n",
    "seq_100_I = [0.001745, 0.002070, 0.001904, 0.001629, 0.001738, 0.001602, 0.001642]\n",
    "seq_500_I = [0.007565, 0.008103, 0.009661, 0.007396, 0.006616, 0.007606, 0.007011]\n",
    "seq_1000_I = [0.014518, 0.013678, 0.014778, 0.014314, 0.014415, 0.014477, 0.009118]"
   ]
  },
  {
   "cell_type": "code",
   "execution_count": 7,
   "metadata": {},
   "outputs": [
    {
     "name": "stdout",
     "output_type": "stream",
     "text": [
      "50 Iterations: 0.0009377999999999999\n",
      "100 Iterations: 0.0017316000000000002\n",
      "500 Iterations: 0.007536200000000002\n",
      "1000 Iterations: 0.014280400000000002\n"
     ]
    }
   ],
   "source": [
    "# print the averages of the sequential execution times\n",
    "print('50 Iterations:', avg(seq_50_I))\n",
    "print('100 Iterations:', avg(seq_100_I))\n",
    "print('500 Iterations:', avg(seq_500_I))\n",
    "print('1000 Iterations:', avg(seq_1000_I))"
   ]
  },
  {
   "cell_type": "code",
   "execution_count": 8,
   "metadata": {},
   "outputs": [
    {
     "data": {
      "image/png": "[encoded data removed]",
      "text/plain": [
       "<Figure size 432x288 with 1 Axes>"
      ]
     },
     "metadata": {
      "needs_background": "light"
     },
     "output_type": "display_data"
    }
   ],
   "source": [
    "# plot the averages of the sequential execution times\n",
    "seq_50_I_avg = avg(seq_50_I)\n",
    "seq_100_I_avg = avg(seq_100_I)\n",
    "seq_500_I_avg = avg(seq_500_I)\n",
    "seq_1000_I_avg = avg(seq_1000_I)\n",
    "\n",
    "seq_avg = [seq_50_I_avg, seq_100_I_avg, seq_500_I_avg, seq_1000_I_avg]\n",
    "seq_iterations = [50, 100, 500, 1000]\n",
    "\n",
    "plt.plot(seq_iterations, seq_avg)\n",
    "plt.xlabel('Iterations')\n",
    "plt.ylabel('Execution Time')\n",
    "plt.title('Sequential Execution Time')\n",
    "plt.show()\n"
   ]
  },
  {
   "cell_type": "code",
   "execution_count": null,
   "metadata": {},
   "outputs": [],
   "source": [
    "df = calc_speedup(Seq_list, thread_lists)\n",
    "df"
   ]
  },
  {
   "cell_type": "code",
   "execution_count": 25,
   "metadata": {},
   "outputs": [
    {
     "data": {
      "text/plain": [
       "(0.5419072, 9.4422076, 64.0224332)"
      ]
     },
     "execution_count": 25,
     "metadata": {},
     "output_type": "execute_result"
    }
   ],
   "source": [
    "seq = [0.543922, 0.539904, 0.542206, 0.540505, 0.542758, 0.549568, 0.540145]\n",
    "med_seq = [9.475834, 9.463406, 9.556603, 9.353236, 9.466067, 9.390663, 9.415068]\n",
    "large_seq = [60.906942, 65.791226, 61.495260, 65.909135, 66.292854, 60.697092, 66.009603]\n",
    "\n",
    "avg(seq), avg(med_seq), avg(large_seq)"
   ]
  },
  {
   "cell_type": "code",
   "execution_count": 13,
   "metadata": {},
   "outputs": [
    {
     "data": {
      "image/png": "[encoded data removed]",
      "text/plain": [
       "<Figure size 432x288 with 1 Axes>"
      ]
     },
     "metadata": {
      "needs_background": "light"
     },
     "output_type": "display_data"
    }
   ],
   "source": [
    "# read in ISD.txt file and plot the data\n",
    "isd = pandas.read_csv('ISD.txt', sep = '\\t')\n",
    "isd.columns = ['STEP', 'ISD']\n",
    "isd.plot(x = 'STEP', y = 'ISD')\n",
    "plt.show()\n"
   ]
  },
  {
   "cell_type": "code",
   "execution_count": 16,
   "metadata": {},
   "outputs": [
    {
     "data": {
      "text/plain": [
       "0.5378608"
      ]
     },
     "execution_count": 16,
     "metadata": {},
     "output_type": "execute_result"
    }
   ],
   "source": [
    "# small ds results for nmfOpt - no blocking\n",
    "seq = [0.534458, 0.539122, 0.537426, 0.535542, 0.532333, 0.543207, 0.542756]\n",
    "avg(seq)"
   ]
  },
  {
   "cell_type": "code",
   "execution_count": 17,
   "metadata": {},
   "outputs": [
    {
     "data": {
      "text/plain": [
       "9.372934599999999"
      ]
     },
     "execution_count": 17,
     "metadata": {},
     "output_type": "execute_result"
    }
   ],
   "source": [
    "# medium ds results for nmfOpt - no blocking\n",
    "seq = [9.441730, 9.391151, 9.424263, 9.313599, 9.268967, 9.493464, 9.293930]\n",
    "avg(seq)"
   ]
  },
  {
   "cell_type": "code",
   "execution_count": 18,
   "metadata": {},
   "outputs": [
    {
     "data": {
      "text/plain": [
       "60.4470244"
      ]
     },
     "execution_count": 18,
     "metadata": {},
     "output_type": "execute_result"
    }
   ],
   "source": [
    "# large ds results for nmfOpt - no blocking\n",
    "seq = [60.663204, 60.128183, 63.347251, 60.117393, 60.801112, 60.199751, 60.442872]\n",
    "avg(seq)"
   ]
  },
  {
   "cell_type": "code",
   "execution_count": 29,
   "metadata": {},
   "outputs": [
    {
     "name": "stdout",
     "output_type": "stream",
     "text": [
      "0.5419072 0.552068 0.5425760000000001 0.5380942 0.5385568 0.5399655999999999 0.5474943999999999 0.5349756000000001 0.5357484 0.5321187999999999 0.5412319999999999\n"
     ]
    },
    {
     "data": {
      "image/png": "[encoded data removed]",
      "text/plain": [
       "<Figure size 432x288 with 1 Axes>"
      ]
     },
     "metadata": {
      "needs_background": "light"
     },
     "output_type": "display_data"
    }
   ],
   "source": [
    "# small ds results for nmfOpt - blocking\n",
    "seq = [0.543922, 0.539904, 0.542206, 0.540505, 0.542758, 0.549568, 0.540145]\n",
    "par10 = [0.550422, 0.550338, 0.547757, 0.556342, 0.548995, 0.558231, 0.554243]\n",
    "par25 = [0.539496, 0.547106, 0.546138, 0.540328, 0.544313, 0.535382, 0.542605]\n",
    "par50 = [0.541280, 0.538336, 0.536130, 0.545493, 0.538739, 0.535981, 0.535986]\n",
    "par100 = [0.546231, 0.530213, 0.543186, 0.534009, 0.534886, 0.543913, 0.536790]\n",
    "par250 = [0.554449, 0.536993, 0.531711, 0.539495, 0.533229, 0.543633, 0.546478]\n",
    "par500 = [0.540102, 0.532589, 0.537161, 0.541972, 0.567119, 0.560839, 0.557398]\n",
    "par1000 = [0.534457, 0.535191, 0.532827, 0.537962, 0.534441, 0.539641, 0.531159]\n",
    "par2000 = [0.536564, 0.539811, 0.534647, 0.537961, 0.533593, 0.534342, 0.535228]\n",
    "par5000 = [0.530662, 0.535121, 0.535085, 0.530814, 0.531821, 0.529611, 0.532212]\n",
    "par10000 = [0.537150, 0.534218, 0.536364, 0.533799, 0.544581, 0.553847, 0.563479]\n",
    "\n",
    "# take average of each list\n",
    "print(avg(seq), avg(par10), avg(par25), avg(par50), avg(par100), avg(par250), avg(par500), avg(par1000), avg(par2000), avg(par5000), avg(par10000))\n",
    "\n",
    "# plot the results against the number of block sizes\n",
    "par = [avg(par10), avg(par25), avg(par50), avg(par100), avg(par250), avg(par500), avg(par1000), avg(par2000), avg(par5000), avg(par10000)]\n",
    "block_sizes = [10, 25, 50, 100, 250, 500, 1000, 2000, 5000, 10000]\n",
    "\n",
    "\n",
    "# add a constant line with the sequential execution time to the plot\n",
    "plt.ylim(.5, .6)\n",
    "plt.plot(block_sizes, par)\n",
    "plt.axhline(y = avg(seq), color = 'r', linestyle = '-')\n",
    "plt.xlabel('Block Size')\n",
    "plt.ylabel('Execution Time')\n",
    "plt.title('Block Size Execution Time - Small Dataset')\n",
    "\n",
    "# and add a legend to the plot to show the sequential line vs the parallel line\n",
    "plt.legend(['Blocked', 'Sequential'])\n",
    "plt.show()\n",
    "\n"
   ]
  },
  {
   "cell_type": "code",
   "execution_count": 30,
   "metadata": {},
   "outputs": [
    {
     "name": "stdout",
     "output_type": "stream",
     "text": [
      "9.4422076 9.540960799999999 9.378895600000002 9.391796 9.3637678 9.3725704 9.347297000000001 9.438360800000002 9.458645 9.3526032 9.450391\n"
     ]
    },
    {
     "data": {
      "image/png": "[encoded data removed]",
      "text/plain": [
       "<Figure size 432x288 with 1 Axes>"
      ]
     },
     "metadata": {
      "needs_background": "light"
     },
     "output_type": "display_data"
    }
   ],
   "source": [
    "# medium ds results for nmfOpt - blocking\n",
    "seq = [9.475834, 9.463406, 9.556603, 9.353236, 9.466067, 9.390663, 9.415068]\n",
    "par10 = [9.450070, 9.591811, 9.599302, 9.527902, 12.228987, 9.482738, 9.503051]\n",
    "par25 = [9.486993, 9.320670, 9.428383, 9.419038, 9.318298, 9.408089, 9.269470]\n",
    "par50 = [9.433731, 9.561377, 9.322494, 9.361047, 9.436499, 9.348331, 9.379372]\n",
    "par100 = [9.460760, 9.281239, 9.436277, 9.313866, 9.336958, 9.437411, 9.294327]\n",
    "par250 = [9.353697, 9.593345, 9.336391, 9.409245, 9.358116, 9.311966, 9.405403]\n",
    "par500 = [9.436719, 9.219187, 9.301371, 9.387757, 9.340876, 9.539863, 9.269762]\n",
    "par1000 = [9.380692, 9.473661, 9.434264, 9.338804, 9.456218, 9.621502, 9.446969]\n",
    "par2000 = [9.584038, 9.379365, 9.608558, 9.449350, 9.333862, 9.474474, 9.405998]\n",
    "par5000 = [9.396626, 9.283757, 9.275909, 9.497640, 9.343070, 9.375007, 9.364556]\n",
    "par10000 = [9.300772, 9.455358, 9.615612, 9.444692, 9.546060, 9.396048, 9.409797]\n",
    "\n",
    "# take average of each list\n",
    "print(avg(seq), avg(par10), avg(par25), avg(par50), avg(par100), avg(par250), avg(par500), avg(par1000), avg(par2000), avg(par5000), avg(par10000))\n",
    "\n",
    "# plot the results against the number of block sizes\n",
    "par = [avg(par10), avg(par25), avg(par50), avg(par100), avg(par250), avg(par500), avg(par1000), avg(par2000), avg(par5000), avg(par10000)]\n",
    "block_sizes = [10, 25, 50, 100, 250, 500, 1000, 2000, 5000, 10000]\n",
    "\n",
    "# set y axis to start at 0 and end at 1\n",
    "plt.ylim(9, 10)\n",
    "plt.plot(block_sizes, par)\n",
    "plt.axhline(y = avg(seq), color = 'r', linestyle = '-')\n",
    "plt.xlabel('Block Size')\n",
    "plt.ylabel('Execution Time')\n",
    "plt.title('Block Size Execution Time - Medium Dataset')\n",
    "\n",
    "# and add a legend to the plot to show the sequential line vs the parallel line\n",
    "plt.legend(['Blocked', 'Sequential'])\n",
    "plt.show()"
   ]
  },
  {
   "cell_type": "code",
   "execution_count": 32,
   "metadata": {},
   "outputs": [
    {
     "name": "stdout",
     "output_type": "stream",
     "text": [
      "64.0224332 60.8154756 62.229225 60.5727032 60.540280800000005 60.517412 60.9396588 61.2019142 62.127784000000005 60.779240400000006 60.6673186\n"
     ]
    },
    {
     "data": {
      "image/png": "[encoded data removed]",
      "text/plain": [
       "<Figure size 432x288 with 1 Axes>"
      ]
     },
     "metadata": {
      "needs_background": "light"
     },
     "output_type": "display_data"
    }
   ],
   "source": [
    "# large ds results for nmfOpt - blocking\n",
    "seq = [60.906942, 65.791226, 61.495260, 65.909135, 66.292854, 60.697092, 66.009603]\n",
    "par10 = [60.343254, 60.561474, 60.449829, 62.190076, 60.301975, 60.532745, 62.227841]\n",
    "par25 = [63.361837, 65.885473, 60.655988, 60.592889, 63.790693, 60.580615, 62.744718]\n",
    "par50 = [64.132692, 60.386337, 60.141502, 60.161332, 60.417069, 60.083275, 61.757276]\n",
    "par100 = [60.318428, 60.414053, 60.171394, 61.296319, 61.851624, 60.264112, 60.408492]\n",
    "par250 = [60.179979, 59.891246, 60.391118, 60.378669, 61.319627, 60.317667, 62.100910]\n",
    "par500 = [60.314595, 61.117702, 61.756292, 60.340996, 63.036884, 61.125936, 60.357368]\n",
    "par1000 = [61.227422, 60.354767, 60.306954, 62.765614, 61.834360, 60.654657, 61.938365]\n",
    "par2000 = [60.613229, 63.260377, 63.451489, 60.436812, 64.865226, 62.845308, 60.468517]\n",
    "par5000 = [60.095884, 60.554738, 65.304430, 61.575913, 60.762393, 59.960676, 60.907274]\n",
    "par10000 = [61.029667, 62.605819, 60.816393, 60.217176, 60.193416, 60.315100, 60.958257]\n",
    "\n",
    "# take average of each list\n",
    "print(avg(seq), avg(par10), avg(par25), avg(par50), avg(par100), avg(par250), avg(par500), avg(par1000), avg(par2000), avg(par5000), avg(par10000))\n",
    "\n",
    "# plot the results against the number of block sizes\n",
    "par = [avg(par10), avg(par25), avg(par50), avg(par100), avg(par250), avg(par500), avg(par1000), avg(par2000), avg(par5000), avg(par10000)]\n",
    "block_sizes = [10, 25, 50, 100, 250, 500, 1000, 2000, 5000, 10000]\n",
    "\n",
    "# set y axis to start at 0 and end at 1\n",
    "plt.ylim(50, 70)\n",
    "plt.plot(block_sizes, par)\n",
    "plt.axhline(y = avg(seq), color = 'r', linestyle = '-')\n",
    "plt.xlabel('Block Size')\n",
    "plt.ylabel('Execution Time')\n",
    "plt.title('Block Size Execution Time - Large Dataset')\n",
    "\n",
    "# and add a legend to the plot to show the sequential line vs the parallel line\n",
    "plt.legend(['Blocked', 'Sequential'])\n",
    "plt.show()"
   ]
  },
  {
   "cell_type": "code",
   "execution_count": 12,
   "metadata": {},
   "outputs": [
    {
     "data": {
      "text/html": [
       "<table>\n",
       "    <thead>\n",
       "        <tr>\n",
       "            <th>Sequential</th>\n",
       "            <th>10</th>\n",
       "            <th>25</th>\n",
       "            <th>50</th>\n",
       "            <th>100</th>\n",
       "            <th>250</th>\n",
       "            <th>500</th>\n",
       "            <th>1000</th>\n",
       "            <th>2000</th>\n",
       "            <th>5000</th>\n",
       "            <th>10000</th>\n",
       "        </tr>\n",
       "    </thead>\n",
       "    <tbody>\n",
       "        <tr>\n",
       "            <td>9.3889</td>\n",
       "            <td>9.648</td>\n",
       "            <td>9.4797</td>\n",
       "            <td>9.4984</td>\n",
       "            <td>9.4746</td>\n",
       "            <td>9.4733</td>\n",
       "            <td>9.5365</td>\n",
       "            <td>9.4894</td>\n",
       "            <td>9.5551</td>\n",
       "            <td>9.5469</td>\n",
       "            <td>9.5244</td>\n",
       "        </tr>\n",
       "    </tbody>\n",
       "</table>"
      ],
      "text/plain": [
       "+------------+-------+--------+--------+--------+--------+--------+--------+--------+--------+--------+\n",
       "| Sequential |   10  |   25   |   50   |  100   |  250   |  500   |  1000  |  2000  |  5000  | 10000  |\n",
       "+------------+-------+--------+--------+--------+--------+--------+--------+--------+--------+--------+\n",
       "|   9.3889   | 9.648 | 9.4797 | 9.4984 | 9.4746 | 9.4733 | 9.5365 | 9.4894 | 9.5551 | 9.5469 | 9.5244 |\n",
       "+------------+-------+--------+--------+--------+--------+--------+--------+--------+--------+--------+"
      ]
     },
     "execution_count": 12,
     "metadata": {},
     "output_type": "execute_result"
    }
   ],
   "source": [
    "from prettytable import PrettyTable\n",
    "\n",
    "# # Block size tests - really see no joy at all. Too small? Not a localization issue?\n",
    "# (base) denver:~/CS575/NMF$ ./test.sh 1 10000 ./test_data/med_data.dat 5 0 1 nmf\n",
    "# 1 threads for nmf -N 6 -I 10000 -T 5 -B 1 ./test_data/med_data.dat\n",
    "# 9.406589, 9.325238, 9.404208, 9.387634, 9.362653, 9.383552, 9.479898,\n",
    "\n",
    "# (base) denver:~/CS575/NMF$ ./test.sh 6 10000 ./test_data/med_data.dat 5 0 10 nmfOpt\n",
    "# 1 threads for nmfOpt -N 6 -I 10000 -T 5 -B 10 ./test_data/med_data.dat\n",
    "# 9.722706, 9.579972, 9.661539, 9.737212, 9.599060, 9.676715, 9.564941,\n",
    "# (base) denver:~/CS575/NMF$ ./test.sh 6 10000 ./test_data/med_data.dat 5 0 25 nmfOpt\n",
    "# 1 threads for nmfOpt -N 6 -I 10000 -T 5 -B 25 ./test_data/med_data.dat\n",
    "# 9.432991, 9.493594, 9.463730, 9.553460, 9.448938, 9.493673, 9.498362,\n",
    "# (base) denver:~/CS575/NMF$ ./test.sh 6 10000 ./test_data/med_data.dat 5 0 50 nmfOpt\n",
    "# 1 threads for nmfOpt -N 6 -I 10000 -T 5 -B 50 ./test_data/med_data.dat\n",
    "# 9.466799, 9.534266, 9.450707, 9.495390, 9.564350, 9.529818, 9.465759,\n",
    "# (base) denver:~/CS575/NMF$ ./test.sh 6 10000 ./test_data/med_data.dat 5 0 100 nmfOpt\n",
    "# 1 threads for nmfOpt -N 6 -I 10000 -T 5 -B 100 ./test_data/med_data.dat\n",
    "# 9.452977, 9.510970, 9.526947, 9.405941, 9.471033, 9.410863, 9.707120,\n",
    "# (base) denver:~/CS575/NMF$ ./test.sh 6 10000 ./test_data/med_data.dat 5 0 250 nmfOpt\n",
    "# 1 threads for nmfOpt -N 6 -I 10000 -T 5 -B 250 ./test_data/med_data.dat\n",
    "# 9.408955, 9.560139, 9.436111, 9.338082, 9.544690, 9.416759, 9.575007,\n",
    "# (base) denver:~/CS575/NMF$ ./test.sh 6 10000 ./test_data/med_data.dat 5 0 500 nmfOpt\n",
    "# 1 threads for nmfOpt -N 6 -I 10000 -T 5 -B 500 ./test_data/med_data.dat\n",
    "# 9.504865, 9.649893, 9.623651, 9.458090, 9.513319, 9.504950, 9.535742,\n",
    "# (base) denver:~/CS575/NMF$ ./test.sh 6 10000 ./test_data/med_data.dat 5 0 1000 nmfOpt\n",
    "# 1 threads for nmfOpt -N 6 -I 10000 -T 5 -B 1000 ./test_data/med_data.dat\n",
    "# 9.483290, 9.528004, 9.468683, 9.524097, 9.507855, 9.453468, 9.463101,\n",
    "# (base) denver:~/CS575/NMF$ ./test.sh 6 10000 ./test_data/med_data.dat 5 0 2000 nmfOpt\n",
    "# 1 threads for nmfOpt -N 6 -I 10000 -T 5 -B 2000 ./test_data/med_data.dat\n",
    "# 9.462383, 9.553690, 9.712771, 9.667013, 9.557601, 9.412043, 9.534750,\n",
    "# (base) denver:~/CS575/NMF$ ./test.sh 6 10000 ./test_data/med_data.dat 5 0 5000 nmfOpt\n",
    "# 1 threads for nmfOpt -N 6 -I 10000 -T 5 -B 5000 ./test_data/med_data.dat\n",
    "# 9.571613, 9.479653, 9.566766, 9.650081, 9.536227, 9.569641, 9.490401,\n",
    "# (base) denver:~/CS575/NMF$ ./test.sh 6 10000 ./test_data/med_data.dat 5 0 10000 nmfOpt\n",
    "# 1 threads for nmfOpt -N 6 -I 10000 -T 5 -B 10000 ./test_data/med_data.dat\n",
    "# 9.470639, 9.565643, 9.551589, 9.517079, 9.560104, 9.457342, 9.522353,\n",
    "\n",
    "# create arrays of the data\n",
    "seq = [9.406589, 9.325238, 9.404208, 9.387634, 9.362653, 9.383552, 9.479898]\n",
    "par_10 = [9.722706, 9.579972, 9.661539, 9.737212, 9.599060, 9.676715, 9.564941]\n",
    "par_25 = [9.432991, 9.493594, 9.463730, 9.553460, 9.448938, 9.493673, 9.498362]\n",
    "par_50 = [9.466799, 9.534266, 9.450707, 9.495390, 9.564350, 9.529818, 9.465759]\n",
    "par_100 = [9.452977, 9.510970, 9.526947, 9.405941, 9.471033, 9.410863, 9.707120]\n",
    "par_250 = [9.408955, 9.560139, 9.436111, 9.338082, 9.544690, 9.416759, 9.575007]\n",
    "par_500 = [9.504865, 9.649893, 9.623651, 9.458090, 9.513319, 9.504950, 9.535742]\n",
    "par_1000 = [9.483290, 9.528004, 9.468683, 9.524097, 9.507855, 9.453468, 9.463101]\n",
    "par_2000 = [9.462383, 9.553690, 9.712771, 9.667013, 9.557601, 9.412043, 9.534750]\n",
    "par_5000 = [9.571613, 9.479653, 9.566766, 9.650081, 9.536227, 9.569641, 9.490401]\n",
    "par_10000 = [9.470639, 9.565643, 9.551589, 9.517079, 9.560104, 9.457342, 9.522353]\n",
    "\n",
    "# find the average of each array using the avg method\n",
    "seq_avg = avg(seq)\n",
    "par_10_avg = avg(par_10)\n",
    "par_25_avg = avg(par_25)\n",
    "par_50_avg = avg(par_50)\n",
    "par_100_avg = avg(par_100)\n",
    "par_250_avg = avg(par_250)\n",
    "par_500_avg = avg(par_500)\n",
    "par_1000_avg = avg(par_1000)\n",
    "par_2000_avg = avg(par_2000)\n",
    "par_5000_avg = avg(par_5000)\n",
    "par_10000_avg = avg(par_10000)\n",
    "\n",
    "# create a table for the data with 4 decimal places of precision\n",
    "table = PrettyTable(['Sequential', '10', '25', '50', '100', '250', '500', '1000', '2000', '5000', '10000'])\n",
    "table.add_row([round(seq_avg, 4), round(par_10_avg, 4), round(par_25_avg, 4), round(par_50_avg, 4), round(par_100_avg, 4), round(par_250_avg, 4), round(par_500_avg, 4), round(par_1000_avg, 4), round(par_2000_avg, 4), round(par_5000_avg, 4), round(par_10000_avg, 4)])\n",
    "\n",
    "# print the table\n",
    "table\n"
   ]
  },
  {
   "cell_type": "code",
   "execution_count": 44,
   "metadata": {},
   "outputs": [
    {
     "name": "stdout",
     "output_type": "stream",
     "text": [
      "Python small average:  0.4910113334655762\n",
      "Python medium average:  3.535957956314087\n",
      "Python large average:  16.716882371902464\n"
     ]
    },
    {
     "data": {
      "image/png": "[encoded data removed]",
      "text/plain": [
       "<Figure size 432x288 with 1 Axes>"
      ]
     },
     "metadata": {
      "needs_background": "light"
     },
     "output_type": "display_data"
    },
    {
     "data": {
      "image/png": "[encoded data removed]",
      "text/plain": [
       "<Figure size 432x288 with 1 Axes>"
      ]
     },
     "metadata": {
      "needs_background": "light"
     },
     "output_type": "display_data"
    },
    {
     "data": {
      "image/png": "[encoded data removed]",
      "text/plain": [
       "<Figure size 432x288 with 1 Axes>"
      ]
     },
     "metadata": {
      "needs_background": "light"
     },
     "output_type": "display_data"
    },
    {
     "ename": "ValueError",
     "evalue": "shape mismatch: objects cannot be broadcast to a single shape.  Mismatch is between arg 0 with shape (6,) and arg 1 with shape (9,).",
     "output_type": "error",
     "traceback": [
      "\u001b[0;31m---------------------------------------------------------------------------\u001b[0m",
      "\u001b[0;31mValueError\u001b[0m                                Traceback (most recent call last)",
      "\u001b[0;32m<ipython-input-44-bb42f17b6c30>\u001b[0m in \u001b[0;36m<module>\u001b[0;34m\u001b[0m\n\u001b[1;32m     53\u001b[0m \u001b[0;34m\u001b[0m\u001b[0m\n\u001b[1;32m     54\u001b[0m \u001b[0;31m# combine the three bar charts into one\u001b[0m\u001b[0;34m\u001b[0m\u001b[0;34m\u001b[0m\u001b[0;34m\u001b[0m\u001b[0m\n\u001b[0;32m---> 55\u001b[0;31m \u001b[0mplt\u001b[0m\u001b[0;34m.\u001b[0m\u001b[0mbar\u001b[0m\u001b[0;34m(\u001b[0m\u001b[0;34m[\u001b[0m\u001b[0;36m1\u001b[0m\u001b[0;34m,\u001b[0m \u001b[0;36m2\u001b[0m\u001b[0;34m,\u001b[0m \u001b[0;36m3\u001b[0m\u001b[0;34m,\u001b[0m \u001b[0;36m4\u001b[0m\u001b[0;34m,\u001b[0m \u001b[0;36m5\u001b[0m\u001b[0;34m,\u001b[0m \u001b[0;36m6\u001b[0m\u001b[0;34m]\u001b[0m\u001b[0;34m,\u001b[0m \u001b[0;34m[\u001b[0m\u001b[0mpy_small_avg\u001b[0m\u001b[0;34m,\u001b[0m \u001b[0msmall_seq_avg\u001b[0m\u001b[0;34m,\u001b[0m \u001b[0msmall_opt_best_avg\u001b[0m\u001b[0;34m,\u001b[0m \u001b[0mpy_med_avg\u001b[0m\u001b[0;34m,\u001b[0m \u001b[0mmed_seq_avg\u001b[0m\u001b[0;34m,\u001b[0m \u001b[0mmed_opt_best_avg\u001b[0m\u001b[0;34m,\u001b[0m \u001b[0mpy_large_avg\u001b[0m\u001b[0;34m,\u001b[0m \u001b[0mlarge_seq_avg\u001b[0m\u001b[0;34m,\u001b[0m \u001b[0mlarge_opt_best_avg\u001b[0m\u001b[0;34m]\u001b[0m\u001b[0;34m,\u001b[0m \u001b[0mtick_label\u001b[0m\u001b[0;34m=\u001b[0m\u001b[0;34m[\u001b[0m\u001b[0;34m'Python'\u001b[0m\u001b[0;34m,\u001b[0m \u001b[0;34m'Sequential'\u001b[0m\u001b[0;34m,\u001b[0m \u001b[0;34m'Optimized Best'\u001b[0m\u001b[0;34m,\u001b[0m \u001b[0;34m'Python'\u001b[0m\u001b[0;34m,\u001b[0m \u001b[0;34m'Sequential'\u001b[0m\u001b[0;34m,\u001b[0m \u001b[0;34m'Optimized Best'\u001b[0m\u001b[0;34m,\u001b[0m \u001b[0;34m'Python'\u001b[0m\u001b[0;34m,\u001b[0m \u001b[0;34m'Sequential'\u001b[0m\u001b[0;34m,\u001b[0m \u001b[0;34m'Optimized Best'\u001b[0m\u001b[0;34m]\u001b[0m\u001b[0;34m)\u001b[0m\u001b[0;34m\u001b[0m\u001b[0;34m\u001b[0m\u001b[0m\n\u001b[0m\u001b[1;32m     56\u001b[0m \u001b[0mplt\u001b[0m\u001b[0;34m.\u001b[0m\u001b[0mtitle\u001b[0m\u001b[0;34m(\u001b[0m\u001b[0;34m'All Datasets'\u001b[0m\u001b[0;34m)\u001b[0m\u001b[0;34m\u001b[0m\u001b[0;34m\u001b[0m\u001b[0m\n\u001b[1;32m     57\u001b[0m \u001b[0mplt\u001b[0m\u001b[0;34m.\u001b[0m\u001b[0mxlabel\u001b[0m\u001b[0;34m(\u001b[0m\u001b[0;34m'Method'\u001b[0m\u001b[0;34m)\u001b[0m\u001b[0;34m\u001b[0m\u001b[0;34m\u001b[0m\u001b[0m\n",
      "\u001b[0;32m~/opt/anaconda3/lib/python3.8/site-packages/matplotlib/pyplot.py\u001b[0m in \u001b[0;36mbar\u001b[0;34m(x, height, width, bottom, align, data, **kwargs)\u001b[0m\n\u001b[1;32m   2355\u001b[0m         \u001b[0mx\u001b[0m\u001b[0;34m,\u001b[0m \u001b[0mheight\u001b[0m\u001b[0;34m,\u001b[0m \u001b[0mwidth\u001b[0m\u001b[0;34m=\u001b[0m\u001b[0;36m0.8\u001b[0m\u001b[0;34m,\u001b[0m \u001b[0mbottom\u001b[0m\u001b[0;34m=\u001b[0m\u001b[0;32mNone\u001b[0m\u001b[0;34m,\u001b[0m \u001b[0;34m*\u001b[0m\u001b[0;34m,\u001b[0m \u001b[0malign\u001b[0m\u001b[0;34m=\u001b[0m\u001b[0;34m'center'\u001b[0m\u001b[0;34m,\u001b[0m\u001b[0;34m\u001b[0m\u001b[0;34m\u001b[0m\u001b[0m\n\u001b[1;32m   2356\u001b[0m         data=None, **kwargs):\n\u001b[0;32m-> 2357\u001b[0;31m     return gca().bar(\n\u001b[0m\u001b[1;32m   2358\u001b[0m         \u001b[0mx\u001b[0m\u001b[0;34m,\u001b[0m \u001b[0mheight\u001b[0m\u001b[0;34m,\u001b[0m \u001b[0mwidth\u001b[0m\u001b[0;34m=\u001b[0m\u001b[0mwidth\u001b[0m\u001b[0;34m,\u001b[0m \u001b[0mbottom\u001b[0m\u001b[0;34m=\u001b[0m\u001b[0mbottom\u001b[0m\u001b[0;34m,\u001b[0m \u001b[0malign\u001b[0m\u001b[0;34m=\u001b[0m\u001b[0malign\u001b[0m\u001b[0;34m,\u001b[0m\u001b[0;34m\u001b[0m\u001b[0;34m\u001b[0m\u001b[0m\n\u001b[1;32m   2359\u001b[0m         **({\"data\": data} if data is not None else {}), **kwargs)\n",
      "\u001b[0;32m~/opt/anaconda3/lib/python3.8/site-packages/matplotlib/__init__.py\u001b[0m in \u001b[0;36minner\u001b[0;34m(ax, data, *args, **kwargs)\u001b[0m\n\u001b[1;32m   1421\u001b[0m     \u001b[0;32mdef\u001b[0m \u001b[0minner\u001b[0m\u001b[0;34m(\u001b[0m\u001b[0max\u001b[0m\u001b[0;34m,\u001b[0m \u001b[0;34m*\u001b[0m\u001b[0margs\u001b[0m\u001b[0;34m,\u001b[0m \u001b[0mdata\u001b[0m\u001b[0;34m=\u001b[0m\u001b[0;32mNone\u001b[0m\u001b[0;34m,\u001b[0m \u001b[0;34m**\u001b[0m\u001b[0mkwargs\u001b[0m\u001b[0;34m)\u001b[0m\u001b[0;34m:\u001b[0m\u001b[0;34m\u001b[0m\u001b[0;34m\u001b[0m\u001b[0m\n\u001b[1;32m   1422\u001b[0m         \u001b[0;32mif\u001b[0m \u001b[0mdata\u001b[0m \u001b[0;32mis\u001b[0m \u001b[0;32mNone\u001b[0m\u001b[0;34m:\u001b[0m\u001b[0;34m\u001b[0m\u001b[0;34m\u001b[0m\u001b[0m\n\u001b[0;32m-> 1423\u001b[0;31m             \u001b[0;32mreturn\u001b[0m \u001b[0mfunc\u001b[0m\u001b[0;34m(\u001b[0m\u001b[0max\u001b[0m\u001b[0;34m,\u001b[0m \u001b[0;34m*\u001b[0m\u001b[0mmap\u001b[0m\u001b[0;34m(\u001b[0m\u001b[0msanitize_sequence\u001b[0m\u001b[0;34m,\u001b[0m \u001b[0margs\u001b[0m\u001b[0;34m)\u001b[0m\u001b[0;34m,\u001b[0m \u001b[0;34m**\u001b[0m\u001b[0mkwargs\u001b[0m\u001b[0;34m)\u001b[0m\u001b[0;34m\u001b[0m\u001b[0;34m\u001b[0m\u001b[0m\n\u001b[0m\u001b[1;32m   1424\u001b[0m \u001b[0;34m\u001b[0m\u001b[0m\n\u001b[1;32m   1425\u001b[0m         \u001b[0mbound\u001b[0m \u001b[0;34m=\u001b[0m \u001b[0mnew_sig\u001b[0m\u001b[0;34m.\u001b[0m\u001b[0mbind\u001b[0m\u001b[0;34m(\u001b[0m\u001b[0max\u001b[0m\u001b[0;34m,\u001b[0m \u001b[0;34m*\u001b[0m\u001b[0margs\u001b[0m\u001b[0;34m,\u001b[0m \u001b[0;34m**\u001b[0m\u001b[0mkwargs\u001b[0m\u001b[0;34m)\u001b[0m\u001b[0;34m\u001b[0m\u001b[0;34m\u001b[0m\u001b[0m\n",
      "\u001b[0;32m~/opt/anaconda3/lib/python3.8/site-packages/matplotlib/axes/_axes.py\u001b[0m in \u001b[0;36mbar\u001b[0;34m(self, x, height, width, bottom, align, **kwargs)\u001b[0m\n\u001b[1;32m   2381\u001b[0m                 \u001b[0myerr\u001b[0m \u001b[0;34m=\u001b[0m \u001b[0mself\u001b[0m\u001b[0;34m.\u001b[0m\u001b[0m_convert_dx\u001b[0m\u001b[0;34m(\u001b[0m\u001b[0myerr\u001b[0m\u001b[0;34m,\u001b[0m \u001b[0my0\u001b[0m\u001b[0;34m,\u001b[0m \u001b[0my\u001b[0m\u001b[0;34m,\u001b[0m \u001b[0mself\u001b[0m\u001b[0;34m.\u001b[0m\u001b[0mconvert_yunits\u001b[0m\u001b[0;34m)\u001b[0m\u001b[0;34m\u001b[0m\u001b[0;34m\u001b[0m\u001b[0m\n\u001b[1;32m   2382\u001b[0m \u001b[0;34m\u001b[0m\u001b[0m\n\u001b[0;32m-> 2383\u001b[0;31m         x, height, width, y, linewidth, hatch = np.broadcast_arrays(\n\u001b[0m\u001b[1;32m   2384\u001b[0m             \u001b[0;31m# Make args iterable too.\u001b[0m\u001b[0;34m\u001b[0m\u001b[0;34m\u001b[0m\u001b[0;34m\u001b[0m\u001b[0m\n\u001b[1;32m   2385\u001b[0m             np.atleast_1d(x), height, width, y, linewidth, hatch)\n",
      "\u001b[0;32m~/opt/anaconda3/lib/python3.8/site-packages/numpy/core/overrides.py\u001b[0m in \u001b[0;36mbroadcast_arrays\u001b[0;34m(*args, **kwargs)\u001b[0m\n",
      "\u001b[0;32m~/opt/anaconda3/lib/python3.8/site-packages/numpy/lib/stride_tricks.py\u001b[0m in \u001b[0;36mbroadcast_arrays\u001b[0;34m(subok, *args)\u001b[0m\n\u001b[1;32m    538\u001b[0m     \u001b[0margs\u001b[0m \u001b[0;34m=\u001b[0m \u001b[0;34m[\u001b[0m\u001b[0mnp\u001b[0m\u001b[0;34m.\u001b[0m\u001b[0marray\u001b[0m\u001b[0;34m(\u001b[0m\u001b[0m_m\u001b[0m\u001b[0;34m,\u001b[0m \u001b[0mcopy\u001b[0m\u001b[0;34m=\u001b[0m\u001b[0;32mFalse\u001b[0m\u001b[0;34m,\u001b[0m \u001b[0msubok\u001b[0m\u001b[0;34m=\u001b[0m\u001b[0msubok\u001b[0m\u001b[0;34m)\u001b[0m \u001b[0;32mfor\u001b[0m \u001b[0m_m\u001b[0m \u001b[0;32min\u001b[0m \u001b[0margs\u001b[0m\u001b[0;34m]\u001b[0m\u001b[0;34m\u001b[0m\u001b[0;34m\u001b[0m\u001b[0m\n\u001b[1;32m    539\u001b[0m \u001b[0;34m\u001b[0m\u001b[0m\n\u001b[0;32m--> 540\u001b[0;31m     \u001b[0mshape\u001b[0m \u001b[0;34m=\u001b[0m \u001b[0m_broadcast_shape\u001b[0m\u001b[0;34m(\u001b[0m\u001b[0;34m*\u001b[0m\u001b[0margs\u001b[0m\u001b[0;34m)\u001b[0m\u001b[0;34m\u001b[0m\u001b[0;34m\u001b[0m\u001b[0m\n\u001b[0m\u001b[1;32m    541\u001b[0m \u001b[0;34m\u001b[0m\u001b[0m\n\u001b[1;32m    542\u001b[0m     \u001b[0;32mif\u001b[0m \u001b[0mall\u001b[0m\u001b[0;34m(\u001b[0m\u001b[0marray\u001b[0m\u001b[0;34m.\u001b[0m\u001b[0mshape\u001b[0m \u001b[0;34m==\u001b[0m \u001b[0mshape\u001b[0m \u001b[0;32mfor\u001b[0m \u001b[0marray\u001b[0m \u001b[0;32min\u001b[0m \u001b[0margs\u001b[0m\u001b[0;34m)\u001b[0m\u001b[0;34m:\u001b[0m\u001b[0;34m\u001b[0m\u001b[0;34m\u001b[0m\u001b[0m\n",
      "\u001b[0;32m~/opt/anaconda3/lib/python3.8/site-packages/numpy/lib/stride_tricks.py\u001b[0m in \u001b[0;36m_broadcast_shape\u001b[0;34m(*args)\u001b[0m\n\u001b[1;32m    420\u001b[0m     \u001b[0;31m# use the old-iterator because np.nditer does not handle size 0 arrays\u001b[0m\u001b[0;34m\u001b[0m\u001b[0;34m\u001b[0m\u001b[0;34m\u001b[0m\u001b[0m\n\u001b[1;32m    421\u001b[0m     \u001b[0;31m# consistently\u001b[0m\u001b[0;34m\u001b[0m\u001b[0;34m\u001b[0m\u001b[0;34m\u001b[0m\u001b[0m\n\u001b[0;32m--> 422\u001b[0;31m     \u001b[0mb\u001b[0m \u001b[0;34m=\u001b[0m \u001b[0mnp\u001b[0m\u001b[0;34m.\u001b[0m\u001b[0mbroadcast\u001b[0m\u001b[0;34m(\u001b[0m\u001b[0;34m*\u001b[0m\u001b[0margs\u001b[0m\u001b[0;34m[\u001b[0m\u001b[0;34m:\u001b[0m\u001b[0;36m32\u001b[0m\u001b[0;34m]\u001b[0m\u001b[0;34m)\u001b[0m\u001b[0;34m\u001b[0m\u001b[0;34m\u001b[0m\u001b[0m\n\u001b[0m\u001b[1;32m    423\u001b[0m     \u001b[0;31m# unfortunately, it cannot handle 32 or more arguments directly\u001b[0m\u001b[0;34m\u001b[0m\u001b[0;34m\u001b[0m\u001b[0;34m\u001b[0m\u001b[0m\n\u001b[1;32m    424\u001b[0m     \u001b[0;32mfor\u001b[0m \u001b[0mpos\u001b[0m \u001b[0;32min\u001b[0m \u001b[0mrange\u001b[0m\u001b[0;34m(\u001b[0m\u001b[0;36m32\u001b[0m\u001b[0;34m,\u001b[0m \u001b[0mlen\u001b[0m\u001b[0;34m(\u001b[0m\u001b[0margs\u001b[0m\u001b[0;34m)\u001b[0m\u001b[0;34m,\u001b[0m \u001b[0;36m31\u001b[0m\u001b[0;34m)\u001b[0m\u001b[0;34m:\u001b[0m\u001b[0;34m\u001b[0m\u001b[0;34m\u001b[0m\u001b[0m\n",
      "\u001b[0;31mValueError\u001b[0m: shape mismatch: objects cannot be broadcast to a single shape.  Mismatch is between arg 0 with shape (6,) and arg 1 with shape (9,)."
     ]
    },
    {
     "data": {
      "image/png": "[encoded data removed]",
      "text/plain": [
       "<Figure size 432x288 with 1 Axes>"
      ]
     },
     "metadata": {
      "needs_background": "light"
     },
     "output_type": "display_data"
    }
   ],
   "source": [
    "# running python results for the small dataset\n",
    "py_small = [0.5197911262512207, 0.5137181282043457, 0.48627352714538574, 0.48632144927978516, 0.48370981216430664, 0.4843480587005615, 0.48439550399780273]\n",
    "py_med = [3.4942641258239746, 3.6299102306365967, 3.503089189529419, 3.5162973403930664, 3.6888787746429443, 3.517646312713623, 3.5128467082977295]\n",
    "py_large = [17.66326594352722, 16.709167957305908, 16.58553910255432, 16.76421284675598, 16.728759765625, 16.628264904022217, 16.754006385803223]\n",
    "\n",
    "# find the average of each array using the avg method\n",
    "py_small_avg = avg(py_small)\n",
    "py_med_avg = avg(py_med)\n",
    "py_large_avg = avg(py_large)\n",
    "\n",
    "# print the averages\n",
    "print(\"Python small average: \", py_small_avg)\n",
    "print(\"Python medium average: \", py_med_avg)\n",
    "print(\"Python large average: \", py_large_avg)\n",
    "\n",
    "small_seq = [0.543922, 0.539904, 0.542206, 0.540505, 0.542758, 0.549568, 0.540145]\n",
    "med_seq = [9.475834, 9.463406, 9.556603, 9.353236, 9.466067, 9.390663, 9.415068]\n",
    "large_seq = [60.906942, 65.791226, 61.495260, 65.909135, 66.292854, 60.697092, 66.009603]\n",
    "# find the average of each array using the avg method\n",
    "small_seq_avg = avg(small_seq)\n",
    "med_seq_avg = avg(med_seq)\n",
    "large_seq_avg = avg(large_seq)\n",
    "\n",
    "small_opt_best = [0.530662, 0.535121, 0.535085, 0.530814, 0.531821, 0.529611, 0.532212]\n",
    "med_opt_best = [9.436719, 9.219187, 9.301371, 9.387757, 9.340876, 9.539863, 9.269762]\n",
    "large_opt_best = [60.179979, 59.891246, 60.391118, 60.378669, 61.319627, 60.317667, 62.100910]\n",
    "\n",
    "# find the average of each array using the avg method\n",
    "small_opt_best_avg = avg(small_opt_best)\n",
    "med_opt_best_avg = avg(med_opt_best)\n",
    "large_opt_best_avg = avg(large_opt_best)\n",
    "\n",
    "# plot a bar chart for the small dataset comparing the sequential, python, and optimized best\n",
    "plt.bar([1, 2, 3], [py_small_avg, small_seq_avg, small_opt_best_avg], tick_label=['Python', 'Sequential', 'Optimized Best'])\n",
    "plt.title('Small Dataset')\n",
    "plt.xlabel('Method')\n",
    "plt.ylabel('Time (s)')\n",
    "plt.show()\n",
    "\n",
    "# plot a bar chart for the medium dataset comparing the sequential, python, and optimized best\n",
    "plt.bar([1, 2, 3], [py_med_avg, med_seq_avg, med_opt_best_avg], tick_label=['Python', 'Sequential', 'Optimized Best'])\n",
    "plt.title('Medium Dataset')\n",
    "plt.xlabel('Method')\n",
    "plt.ylabel('Time (s)')\n",
    "plt.show()\n",
    "\n",
    "# plot a bar chart for the large dataset comparing the sequential, python, and optimized best\n",
    "plt.bar([1, 2, 3], [py_large_avg, large_seq_avg, large_opt_best_avg], tick_label=['Python', 'Sequential', 'Optimized Best'])\n",
    "plt.title('Large Dataset')\n",
    "plt.xlabel('Method')\n",
    "plt.ylabel('Time (s)')\n",
    "plt.show()\n",
    "\n"
   ]
  }
 ],
 "metadata": {
  "kernelspec": {
   "display_name": "Python 3",
   "language": "python",
   "name": "python3"
  },
  "language_info": {
   "codemirror_mode": {
    "name": "ipython",
    "version": 3
   },
   "file_extension": ".py",
   "mimetype": "text/x-python",
   "name": "python",
   "nbconvert_exporter": "python",
   "pygments_lexer": "ipython3",
   "version": "3.8.3"
  },
  "orig_nbformat": 4
 },
 "nbformat": 4,
 "nbformat_minor": 2
}
