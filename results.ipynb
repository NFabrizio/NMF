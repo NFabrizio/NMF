{
 "cells": [
  {
   "attachments": {},
   "cell_type": "markdown",
   "metadata": {},
   "source": [
    "This jupyter notebook will help us in creating graphs and charts for our results. It will have basic functionality to calculate speedup and efficiency"
   ]
  },
  {
   "cell_type": "code",
   "execution_count": 2,
   "metadata": {},
   "outputs": [],
   "source": [
    "import numpy as np\n",
    "import pandas\n",
    "import matplotlib.pyplot as plt"
   ]
  },
  {
   "cell_type": "code",
   "execution_count": 3,
   "metadata": {},
   "outputs": [],
   "source": [
    "# loop through a list of threaded results and compare to sequential execution to find a df of threads, avg, sppedup, and efficiency\n",
    "def calc_speedup(seq_list, thread_lists):\n",
    "  seq_list.remove(max(seq_list))\n",
    "  seq_list.remove(min(seq_list))\n",
    "  seqAvg = np.average(seq_list)\n",
    "  print('Sequential Execution time average: ', seqAvg)\n",
    "\n",
    "  num_of_threads = 0\n",
    "  results = []\n",
    "  result_names = ['Threads', 'STD', 'Avg', 'Speedup', 'Efficiency']\n",
    "\n",
    "  for thread_list in thread_lists:\n",
    "    # Remove max and min for current list\n",
    "    thread_list.remove(max(thread_list))\n",
    "    thread_list.remove(min(thread_list))\n",
    "\n",
    "    num_of_threads += 1\n",
    "    thread_avg = round(np.average(thread_list), 3)\n",
    "    speedup = round(seqAvg/thread_avg, 3)\n",
    "    efficiency = round(speedup/num_of_threads, 3)\n",
    "    standard_dev = round(np.std(thread_list), 5)\n",
    "    results.append([num_of_threads, standard_dev, thread_avg, speedup, efficiency])\n",
    "\n",
    "  df = pandas.DataFrame(results, columns=result_names)  \n",
    "  return df"
   ]
  },
  {
   "cell_type": "code",
   "execution_count": 4,
   "metadata": {},
   "outputs": [],
   "source": [
    "# Will take a dataframe with Avg, Speedup, and Efficiency and plot them\n",
    "def plot_speedup(df):\n",
    "  ax = plt.gca() \n",
    "  df.plot(kind = 'line', x = 'Threads', y = 'Avg', color = 'green', ax = ax)\n",
    "  df.plot(kind = 'line',x = 'Threads', y = 'Speedup', color = 'blue', ax = ax)\n",
    "  df.plot(kind = 'line',x = 'Threads', y = 'Efficiency', color = 'orange', ax = ax)\n",
    "  plt.show();"
   ]
  },
  {
   "cell_type": "code",
   "execution_count": 5,
   "metadata": {},
   "outputs": [],
   "source": [
    "# Will take a list of sequential results and return the average of the list\n",
    "def avg(seq_list):\n",
    "  seq_list.remove(max(seq_list))\n",
    "  seq_list.remove(min(seq_list))\n",
    "  seqAvg = np.average(seq_list)\n",
    "  return seqAvg"
   ]
  },
  {
   "cell_type": "code",
   "execution_count": 6,
   "metadata": {},
   "outputs": [],
   "source": [
    "seq_50_I = [0.002076, 0.000901, 0.001030, 0.000911, 0.000918, 0.000917, 0.000913]\n",
    "seq_100_I = [0.001745, 0.002070, 0.001904, 0.001629, 0.001738, 0.001602, 0.001642]\n",
    "seq_500_I = [0.007565, 0.008103, 0.009661, 0.007396, 0.006616, 0.007606, 0.007011]\n",
    "seq_1000_I = [0.014518, 0.013678, 0.014778, 0.014314, 0.014415, 0.014477, 0.009118]"
   ]
  },
  {
   "cell_type": "code",
   "execution_count": null,
   "metadata": {},
   "outputs": [],
   "source": [
    "# Execution times - simple addition of omp parrallel for\n",
    "thread_1_list = []\n",
    "thread_2_list = []\n",
    "thread_3_list = []\n",
    "thread_4_list = []\n",
    "thread_5_list = []\n",
    "thread_6_list = []\n",
    "thread_7_list = []\n",
    "thread_8_list = []\n",
    "Seq_list = []\n",
    "\n",
    "thread_lists = [thread_1_list, thread_2_list, thread_3_list, thread_4_list, thread_5_list, thread_6_list, thread_7_list, thread_8_list]"
   ]
  },
  {
   "cell_type": "code",
   "execution_count": 7,
   "metadata": {},
   "outputs": [
    {
     "name": "stdout",
     "output_type": "stream",
     "text": [
      "50 Iterations: 0.0009377999999999999\n",
      "100 Iterations: 0.0017316000000000002\n",
      "500 Iterations: 0.007536200000000002\n",
      "1000 Iterations: 0.014280400000000002\n"
     ]
    }
   ],
   "source": [
    "# print the averages of the sequential execution times\n",
    "print('50 Iterations:', avg(seq_50_I))\n",
    "print('100 Iterations:', avg(seq_100_I))\n",
    "print('500 Iterations:', avg(seq_500_I))\n",
    "print('1000 Iterations:', avg(seq_1000_I))"
   ]
  },
  {
   "cell_type": "code",
   "execution_count": 8,
   "metadata": {},
   "outputs": [
    {
     "data": {
      "image/png": "[encoded data removed]",
      "text/plain": [
       "<Figure size 432x288 with 1 Axes>"
      ]
     },
     "metadata": {
      "needs_background": "light"
     },
     "output_type": "display_data"
    }
   ],
   "source": [
    "# plot the averages of the sequential execution times\n",
    "seq_50_I_avg = avg(seq_50_I)\n",
    "seq_100_I_avg = avg(seq_100_I)\n",
    "seq_500_I_avg = avg(seq_500_I)\n",
    "seq_1000_I_avg = avg(seq_1000_I)\n",
    "\n",
    "seq_avg = [seq_50_I_avg, seq_100_I_avg, seq_500_I_avg, seq_1000_I_avg]\n",
    "seq_iterations = [50, 100, 500, 1000]\n",
    "\n",
    "plt.plot(seq_iterations, seq_avg)\n",
    "plt.xlabel('Iterations')\n",
    "plt.ylabel('Execution Time')\n",
    "plt.title('Sequential Execution Time')\n",
    "plt.show()\n"
   ]
  },
  {
   "cell_type": "code",
   "execution_count": null,
   "metadata": {},
   "outputs": [],
   "source": [
    "df = calc_speedup(Seq_list, thread_lists)\n",
    "df"
   ]
  }
 ],
 "metadata": {
  "kernelspec": {
   "display_name": "Python 3",
   "language": "python",
   "name": "python3"
  },
  "language_info": {
   "codemirror_mode": {
    "name": "ipython",
    "version": 3
   },
   "file_extension": ".py",
   "mimetype": "text/x-python",
   "name": "python",
   "nbconvert_exporter": "python",
   "pygments_lexer": "ipython3",
   "version": "3.8.3"
  },
  "orig_nbformat": 4
 },
 "nbformat": 4,
 "nbformat_minor": 2
}
